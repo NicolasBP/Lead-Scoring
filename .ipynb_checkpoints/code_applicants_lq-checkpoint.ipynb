{
 "cells": [
  {
   "cell_type": "code",
   "execution_count": 7,
   "metadata": {
    "collapsed": false
   },
   "outputs": [],
   "source": [
    "import pandas as pd\n",
    "import numpy as np"
   ]
  },
  {
   "cell_type": "code",
   "execution_count": 8,
   "metadata": {
    "collapsed": false
   },
   "outputs": [
    {
     "data": {
      "text/plain": [
       "2385"
      ]
     },
     "execution_count": 8,
     "metadata": {},
     "output_type": "execute_result"
    }
   ],
   "source": [
    "a_lqs  = pd.read_csv(open('Applicants_LQ/lq1.csv','rU'), encoding = 'ISO-8859-1', engine = 'c', error_bad_lines = False)#, index_col = 'TransactionID')\n",
    "a_lqs2  = pd.read_csv(open('Applicants_LQ/lq2.csv','rU'), encoding = 'ISO-8859-1', engine = 'c', error_bad_lines = False)#, index_col = 'TransactionID')\n",
    "a_lqs = a_lqs.append(a_lqs2, ignore_index = True)\n",
    "len(a_lqs)"
   ]
  },
  {
   "cell_type": "code",
   "execution_count": 11,
   "metadata": {
    "collapsed": false
   },
   "outputs": [],
   "source": [
    "a_lqs = a_lqs.drop_duplicates('Property Address', keep='first')"
   ]
  },
  {
   "cell_type": "code",
   "execution_count": 10,
   "metadata": {
    "collapsed": false
   },
   "outputs": [],
   "source": [
    "a_lqs['TransactionID'] = 0\n",
    "a_lqs['TransactionID'] = a_lqs['Property Address'].str.split(' ').apply(pd.Series, 1)[0].str[:4].str.zfill(4) + a_lqs['Property Address'].str.split(' ').apply(pd.Series, 1)[1].str[:1]# + lqs['Lien Loan Amt'].str.split('.').apply(pd.Series, 1)[0].str[:4].str.zfill(4)\n",
    "#a_lqs['TransactionID'][:5]"
   ]
  },
  {
   "cell_type": "code",
   "execution_count": null,
   "metadata": {
    "collapsed": false
   },
   "outputs": [],
   "source": [
    "a_lqs.to_csv('all_a_lqs.csv', sep=',', encoding = 'utf-8')"
   ]
  }
 ],
 "metadata": {
  "kernelspec": {
   "display_name": "Python 3",
   "language": "python",
   "name": "python3"
  },
  "language_info": {
   "codemirror_mode": {
    "name": "ipython",
    "version": 3
   },
   "file_extension": ".py",
   "mimetype": "text/x-python",
   "name": "python",
   "nbconvert_exporter": "python",
   "pygments_lexer": "ipython3",
   "version": "3.6.0"
  }
 },
 "nbformat": 4,
 "nbformat_minor": 0
}
