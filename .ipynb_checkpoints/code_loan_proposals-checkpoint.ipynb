{
 "cells": [
  {
   "cell_type": "code",
   "execution_count": 1,
   "metadata": {
    "collapsed": false
   },
   "outputs": [],
   "source": [
    "import pandas as pd\n",
    "import numpy as np"
   ]
  },
  {
   "cell_type": "code",
   "execution_count": 2,
   "metadata": {
    "collapsed": false
   },
   "outputs": [],
   "source": [
    "data = pd.read_csv(open('Closings_LP/lp.csv','rU'), encoding = 'utf-8', engine = 'c', error_bad_lines = False)\n",
    "data2 = pd.read_csv(open('Closings_LP/lp1.csv','rU'), encoding = 'utf-8', engine = 'c', error_bad_lines = False)\n",
    "data3 = pd.read_csv(open('Closings_LP/lp03.csv','rU'), encoding = 'utf-8', engine = 'c', error_bad_lines = False)\n",
    "data4 = pd.read_csv(open('Closings_LP/lp05.csv','rU'), encoding = 'utf-8', engine = 'c', error_bad_lines = False)"
   ]
  },
  {
   "cell_type": "code",
   "execution_count": 3,
   "metadata": {
    "collapsed": false
   },
   "outputs": [],
   "source": [
    "data = data.drop('Unnamed: 0', 1)\n",
    "data2 = data2.drop('Unnamed: 0', 1)\n",
    "data3 = data3.drop('Unnamed: 0', 1)\n",
    "data4 = data4.drop('Unnamed: 0', 1)"
   ]
  },
  {
   "cell_type": "code",
   "execution_count": 4,
   "metadata": {
    "collapsed": false
   },
   "outputs": [],
   "source": [
    "closings_loan_proposals = data.append(data2, ignore_index = True)\n",
    "closings_loan_proposals = closings_loan_proposals.append(data3, ignore_index = True)\n",
    "closings_loan_proposals = closings_loan_proposals.append(data4, ignore_index = True)\n",
    "closings_loan_proposals.to_csv('closings_loan_proposals_raw.csv')"
   ]
  },
  {
   "cell_type": "code",
   "execution_count": 5,
   "metadata": {
    "collapsed": false
   },
   "outputs": [],
   "source": [
    "#Fix dates\n",
    "closings_loan_proposals = closings_loan_proposals.replace({'Date':{'\\.':'/'}}, regex=True)\n",
    "closings_loan_proposals = closings_loan_proposals.replace({'CD':{'\\.':'/'}}, regex=True)\n",
    "closings_loan_proposals = closings_loan_proposals.replace({'IP':{'\\.':''}}, regex=True)\n",
    "closings_loan_proposals = closings_loan_proposals.replace({'IP':{'\\(':''}}, regex=True)\n",
    "closings_loan_proposals = closings_loan_proposals.replace({'IP':{'\\)':''}}, regex=True)\n",
    "closings_loan_proposals = closings_loan_proposals.replace({'IP':{'\\-':''}}, regex=True)\n",
    "closings_loan_proposals = closings_loan_proposals.replace({'IP':{'\\ ':''}}, regex=True)\n",
    "closings_loan_proposals = closings_loan_proposals.replace({'IP':{'\\,':''}}, regex=True)\n",
    "closings_loan_proposals['IP'] = closings_loan_proposals['IP'].str[:10]\n",
    "closings_loan_proposals.to_csv('closings_loan_proposals.csv')"
   ]
  },
  {
   "cell_type": "code",
   "execution_count": 6,
   "metadata": {
    "collapsed": false
   },
   "outputs": [
    {
     "data": {
      "text/plain": [
       "262"
      ]
     },
     "execution_count": 6,
     "metadata": {},
     "output_type": "execute_result"
    }
   ],
   "source": [
    "len(closings_loan_proposals['B1N'])"
   ]
  },
  {
   "cell_type": "code",
   "execution_count": 7,
   "metadata": {
    "collapsed": false
   },
   "outputs": [],
   "source": [
    "data = pd.read_csv(open('Funded_LP/lp1.csv','rU'), encoding = 'utf-8', engine = 'c', error_bad_lines = False)\n",
    "data3 = pd.read_csv(open('Funded_LP/lp03.csv','rU'), encoding = 'utf-8', engine = 'c', error_bad_lines = False)\n",
    "data4 = pd.read_csv(open('Funded_LP/lp4.csv','rU'), encoding = 'utf-8', engine = 'c', error_bad_lines = False)"
   ]
  },
  {
   "cell_type": "code",
   "execution_count": 8,
   "metadata": {
    "collapsed": false
   },
   "outputs": [],
   "source": [
    "data = data.drop('Unnamed: 0', 1)\n",
    "data3 = data3.drop('Unnamed: 0', 1)\n",
    "data4 = data4.drop('Unnamed: 0', 1)"
   ]
  },
  {
   "cell_type": "code",
   "execution_count": 9,
   "metadata": {
    "collapsed": false
   },
   "outputs": [],
   "source": [
    "funded_loan_proposals = data.append(data3, ignore_index = True)\n",
    "funded_loan_proposals = closings_loan_proposals.append(data4, ignore_index = True)\n",
    "funded_loan_proposals = funded_loan_proposals.replace({'Date':{'\\.':'/'}}, regex=True)\n",
    "funded_loan_proposals = funded_loan_proposals.replace({'CD':{'\\.':'/'}}, regex=True)\n",
    "funded_loan_proposals = funded_loan_proposals.replace({'IP':{'\\.':''}}, regex=True)\n",
    "funded_loan_proposals = funded_loan_proposals.replace({'IP':{'\\(':''}}, regex=True)\n",
    "funded_loan_proposals = funded_loan_proposals.replace({'IP':{'\\)':''}}, regex=True)\n",
    "funded_loan_proposals = funded_loan_proposals.replace({'IP':{'\\-':''}}, regex=True)\n",
    "funded_loan_proposals = funded_loan_proposals.replace({'IP':{'\\ ':''}}, regex=True)\n",
    "funded_loan_proposals = funded_loan_proposals.replace({'IP':{'\\,':''}}, regex=True)\n",
    "funded_loan_proposals['IP'] = funded_loan_proposals['IP'].str[:10]\n",
    "funded_loan_proposals.to_csv('funded_loan_proposals.csv')"
   ]
  },
  {
   "cell_type": "code",
   "execution_count": 10,
   "metadata": {
    "collapsed": false
   },
   "outputs": [
    {
     "data": {
      "text/plain": [
       "388"
      ]
     },
     "execution_count": 10,
     "metadata": {},
     "output_type": "execute_result"
    }
   ],
   "source": [
    "len(funded_loan_proposals['B1N'])"
   ]
  },
  {
   "cell_type": "code",
   "execution_count": 11,
   "metadata": {
    "collapsed": false
   },
   "outputs": [],
   "source": [
    "data = pd.read_csv(open('Inactive_LP/lp.csv','rU'), encoding = 'utf-8', engine = 'c', error_bad_lines = False)\n",
    "data2 = pd.read_csv(open('Inactive_LP/lp2.csv','rU'), encoding = 'utf-8', engine = 'c', error_bad_lines = False)"
   ]
  },
  {
   "cell_type": "code",
   "execution_count": 12,
   "metadata": {
    "collapsed": false
   },
   "outputs": [],
   "source": [
    "data.loc[data['B1N'].isnull(), 'B1N'] = data.loc[data['B1N'].isnull(), 'CompanyPrincipalName']\n",
    "data.loc[data['IC'].isnull(), 'IC'] = data.loc[data['IC'].isnull(), 'PrincipalCity']\n",
    "data.loc[data['IS'].isnull(), 'IS'] = data.loc[data['IS'].isnull(), 'PrincipalState']\n",
    "data.loc[data['IP'].isnull(), 'IP'] = data.loc[data['IP'].isnull(), 'PrincipalPhone']\n",
    "data.loc[data['IREIE'].isnull(), 'IREIE'] = data.loc[data['IREIE'].isnull(), 'PrincipalRealEstateExperience']\n",
    "data.loc[data['ICR'].isnull(), 'ICR'] = data.loc[data['ICR'].isnull(), 'EstimatedCashReserves']\n",
    "data.loc[data['ICRS'].isnull(), 'ICRS'] = data.loc[data['ICRS'].isnull(), 'CashReservesSource']\n",
    "data.loc[data['PA'].isnull(), 'PA'] = data.loc[data['PA'].isnull(), 'PropertyAddress']\n",
    "data.loc[data['PAC'].isnull(), 'PAC'] = data.loc[data['PAC'].isnull(), 'PropertyAddressCity']\n",
    "data.loc[data['PAS'].isnull(), 'PAS'] = data.loc[data['PAS'].isnull(), 'PropertyAddressState']\n",
    "data.loc[data['PAZ'].isnull(), 'PAZ'] = data.loc[data['PAZ'].isnull(), 'PropertyAddressZip']\n",
    "data.loc[data['TP'].isnull(), 'TP'] = data.loc[data['TP'].isnull(), 'TypeOfProperty']\n",
    "data.loc[data['TPC'].isnull(), 'TPC'] = data.loc[data['TPC'].isnull(), 'TypeOfPropertyCommercial']\n",
    "data.loc[data['TPO'].isnull(), 'TPO'] = data.loc[data['TPO'].isnull(), 'TypeOfPropertyOther']\n",
    "data.loc[data['PP'].isnull(), 'PP'] = data.loc[data['PP'].isnull(), 'PurchasePrice']\n",
    "data.loc[data['ARV'].isnull(), 'ARV'] = data.loc[data['ARV'].isnull(), 'AfterRepairedValue']\n",
    "data.loc[data['CD'].isnull(), 'CD'] = data.loc[data['CD'].isnull(), 'ClosingDate']\n",
    "data.loc[data['RE'].isnull(), 'RE'] = data.loc[data['RE'].isnull(), 'RehabEstimate']\n",
    "data.loc[data['RD'].isnull(), 'RD'] = data.loc[data['RD'].isnull(), 'RehabDuration']\n",
    "data.loc[data['RDN'].isnull(), 'RDN'] = data.loc[data['RDN'].isnull(), 'RehabDurationNotes']\n",
    "data.loc[data['ELA'].isnull(), 'ELA'] = data.loc[data['ELA'].isnull(), 'EstimatedLoanAmount']\n",
    "data.loc[data['L1R1'].isnull(), 'L1R1'] = data.loc[data['L1R1'].isnull(), 'LoanInterestRate']\n",
    "data.loc[data['LT'].isnull(), 'LT'] = data.loc[data['LT'].isnull(), 'LoanTermMonths']\n",
    "data.loc[data['DPP'].isnull(), 'DPP'] = data.loc[data['DPP'].isnull(), 'DownPayment']\n",
    "data.loc[data['RCL'].isnull(), 'RCL'] = data.loc[data['RCL'].isnull(), 'BorrowerRehabFunding']\n",
    "data.loc[data['RCLA'].isnull(), 'RCLA'] = data.loc[data['RCLA'].isnull(), 'BorrowerRehabAmount']\n",
    "data.loc[data['ARVP'].isnull(), 'ARVP'] = data.loc[data['ARVP'].isnull(), 'AfterRepairedValuePercentage']\n",
    "data.loc[data['PPR'].isnull(), 'PPR'] = data.loc[data['PPR'].isnull(), 'PrepaymentPenalty']\n",
    "data.loc[data['LAF'].isnull(), 'LAF'] = data.loc[data['LAF'].isnull(), 'AppraisalFee']\n",
    "data.loc[data['LBI'].isnull(), 'LBI'] = data.loc[data['LBI'].isnull(), 'BuildingInspectionFee']\n",
    "data.loc[data['OF'].isnull(), 'OF'] = data.loc[data['OF'].isnull(), 'OriginationFee']\n",
    "data.loc[data['OFP'].isnull(), 'OFP'] = data.loc[data['OFP'].isnull(), 'OriginationFeePercentage']\n",
    "data.loc[data['TCCF'].isnull(), 'TCCF'] = data.loc[data['TCCF'].isnull(), 'TitleCompanyClosingFee']\n",
    "data.loc[data['TSF'].isnull(), 'TSF'] = data.loc[data['TSF'].isnull(), 'TitleSearchFee']\n",
    "data.loc[data['TIF'].isnull(), 'TIF'] = data.loc[data['TIF'].isnull(), 'TitleInsuranceFee']\n",
    "data.loc[data['GRF'].isnull(), 'GRF'] = data.loc[data['GRF'].isnull(), 'GovernmentRecordingFees']\n",
    "data.loc[data['IT'].isnull(), 'IT'] = data.loc[data['IT'].isnull(), 'IntangibleTaxFee']\n",
    "data.loc[data['DSF'].isnull(), 'DSF'] = data.loc[data['DSF'].isnull(), 'DocumentStampsFee']"
   ]
  },
  {
   "cell_type": "code",
   "execution_count": 13,
   "metadata": {
    "collapsed": false
   },
   "outputs": [],
   "source": [
    "data = data.drop('Unnamed: 0', 1)\n",
    "data2 = data2.drop('Unnamed: 0', 1)"
   ]
  },
  {
   "cell_type": "code",
   "execution_count": 14,
   "metadata": {
    "collapsed": false
   },
   "outputs": [
    {
     "data": {
      "text/plain": [
       "227"
      ]
     },
     "execution_count": 14,
     "metadata": {},
     "output_type": "execute_result"
    }
   ],
   "source": [
    "inactive_loan_proposals = data.append(data2, ignore_index = True)\n",
    "len(data)\n",
    "len(data2)\n",
    "len(inactive_loan_proposals)"
   ]
  },
  {
   "cell_type": "code",
   "execution_count": 15,
   "metadata": {
    "collapsed": false
   },
   "outputs": [],
   "source": [
    "inactive_loan_proposals = inactive_loan_proposals.replace({'Date':{'\\.':'/'}}, regex=True)\n",
    "inactive_loan_proposals = inactive_loan_proposals.replace({'CD':{'\\.':'/'}}, regex=True)\n",
    "inactive_loan_proposals = inactive_loan_proposals.replace({'IP':{'\\.':''}}, regex=True)\n",
    "inactive_loan_proposals = inactive_loan_proposals.replace({'IP':{'\\(':''}}, regex=True)\n",
    "inactive_loan_proposals = inactive_loan_proposals.replace({'IP':{'\\)':''}}, regex=True)\n",
    "inactive_loan_proposals = inactive_loan_proposals.replace({'IP':{'\\-':''}}, regex=True)\n",
    "inactive_loan_proposals = inactive_loan_proposals.replace({'IP':{'\\ ':''}}, regex=True)\n",
    "inactive_loan_proposals = inactive_loan_proposals.replace({'IP':{'\\,':''}}, regex=True)"
   ]
  },
  {
   "cell_type": "code",
   "execution_count": 16,
   "metadata": {
    "collapsed": false
   },
   "outputs": [],
   "source": [
    "inactive_loan_proposals['IP'] = inactive_loan_proposals['IP'].str[:10]\n",
    "loan_proposals = closings_loan_proposals.append(funded_loan_proposals, ignore_index = True)\n",
    "loan_proposals = loan_proposals.append(inactive_loan_proposals, ignore_index = True)"
   ]
  },
  {
   "cell_type": "code",
   "execution_count": 17,
   "metadata": {
    "collapsed": false
   },
   "outputs": [
    {
     "data": {
      "text/plain": [
       "313"
      ]
     },
     "execution_count": 17,
     "metadata": {},
     "output_type": "execute_result"
    }
   ],
   "source": [
    "len(loan_proposals.columns.values)"
   ]
  },
  {
   "cell_type": "code",
   "execution_count": 18,
   "metadata": {
    "collapsed": false
   },
   "outputs": [
    {
     "data": {
      "text/plain": [
       "50"
      ]
     },
     "execution_count": 18,
     "metadata": {},
     "output_type": "execute_result"
    }
   ],
   "source": [
    "loan_proposals = loan_proposals.dropna(thresh=(len(loan_proposals)-800), axis = 1)\n",
    "len(loan_proposals.columns.values)"
   ]
  },
  {
   "cell_type": "code",
   "execution_count": 19,
   "metadata": {
    "collapsed": false
   },
   "outputs": [],
   "source": [
    "#from pyzipcode import ZipCodeDatabase\n",
    "#zcdb = ZipCodeDatabase()\n",
    "#zcdb.find_zip(city=\"Orlando\")[0].zip"
   ]
  },
  {
   "cell_type": "code",
   "execution_count": 20,
   "metadata": {
    "collapsed": false
   },
   "outputs": [],
   "source": [
    "loan_proposals['TransactionID'] = 0\n",
    "loan_proposals['TransactionID'] = loan_proposals['PAZ'].astype(unicode) + loan_proposals['PA'].str.split(' ').apply(pd.Series, 1)[0].str[:4]\n"
   ]
  },
  {
   "cell_type": "code",
   "execution_count": 21,
   "metadata": {
    "collapsed": false
   },
   "outputs": [
    {
     "data": {
      "text/plain": [
       "312"
      ]
     },
     "execution_count": 21,
     "metadata": {},
     "output_type": "execute_result"
    }
   ],
   "source": [
    "len(inactive_loan_proposals.columns)"
   ]
  },
  {
   "cell_type": "code",
   "execution_count": 22,
   "metadata": {
    "collapsed": false
   },
   "outputs": [
    {
     "data": {
      "text/plain": [
       "50"
      ]
     },
     "execution_count": 22,
     "metadata": {},
     "output_type": "execute_result"
    }
   ],
   "source": [
    "inactive_loan_proposals = inactive_loan_proposals.dropna(thresh=(len(inactive_loan_proposals)-200), axis = 1)\n",
    "#inactive_loan_proposals = inactive_loan_proposals.drop_duplicates('PA', keep='first')\n",
    "\n",
    "len(inactive_loan_proposals.columns)"
   ]
  },
  {
   "cell_type": "code",
   "execution_count": 23,
   "metadata": {
    "collapsed": false
   },
   "outputs": [
    {
     "data": {
      "text/plain": [
       "227"
      ]
     },
     "execution_count": 23,
     "metadata": {},
     "output_type": "execute_result"
    }
   ],
   "source": [
    "len(inactive_loan_proposals)"
   ]
  },
  {
   "cell_type": "code",
   "execution_count": 24,
   "metadata": {
    "collapsed": false
   },
   "outputs": [],
   "source": [
    "inactive_loan_proposals.to_csv('inactive_loan_proposals.csv')"
   ]
  },
  {
   "cell_type": "code",
   "execution_count": 25,
   "metadata": {
    "collapsed": false
   },
   "outputs": [],
   "source": [
    "loan_proposals = loan_proposals.drop_duplicates('PA', keep='first')"
   ]
  },
  {
   "cell_type": "code",
   "execution_count": 26,
   "metadata": {
    "collapsed": false
   },
   "outputs": [],
   "source": [
    "loan_proposals.to_csv('all_loan_proposals.csv')"
   ]
  }
 ],
 "metadata": {
  "kernelspec": {
   "display_name": "Python 3",
   "language": "python",
   "name": "python3"
  },
  "language_info": {
   "codemirror_mode": {
    "name": "ipython",
    "version": 3
   },
   "file_extension": ".py",
   "mimetype": "text/x-python",
   "name": "python",
   "nbconvert_exporter": "python",
   "pygments_lexer": "ipython3",
   "version": "3.6.0"
  }
 },
 "nbformat": 4,
 "nbformat_minor": 0
}
