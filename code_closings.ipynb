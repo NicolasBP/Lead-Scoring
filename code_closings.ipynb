{
 "cells": [
  {
   "cell_type": "code",
   "execution_count": 1,
   "metadata": {
    "collapsed": false
   },
   "outputs": [],
   "source": [
    "import pandas as pd\n",
    "import numpy as np"
   ]
  },
  {
   "cell_type": "code",
   "execution_count": 2,
   "metadata": {
    "collapsed": false
   },
   "outputs": [],
   "source": [
    "#data = pd.read_csv(open('Closings_Pipeline/ClosingsData.csv','rU'), encoding = 'ISO-8859-1', engine = 'c', error_bad_lines = False)\n",
    "\n",
    "data = pd.read_csv(open('Closings_Pipeline/ClosingsData.csv','rU'), encoding = 'ISO-8859-1', engine = 'c', error_bad_lines = False)\n",
    "#data=data[np.isfinite(data['Property Zip Code'])]"
   ]
  },
  {
   "cell_type": "code",
   "execution_count": 3,
   "metadata": {
    "collapsed": false
   },
   "outputs": [],
   "source": [
    "data['TransactionID'] = 0\n",
    "data['TransactionID'] = data['RegionName'].astype(unicode) + data['Property Address'].str.split(' ').apply(pd.Series, 1)[0].str[:4]"
   ]
  },
  {
   "cell_type": "code",
   "execution_count": 4,
   "metadata": {
    "collapsed": false
   },
   "outputs": [],
   "source": [
    "data.to_csv('closings.csv')"
   ]
  },
  {
   "cell_type": "code",
   "execution_count": 5,
   "metadata": {
    "collapsed": false
   },
   "outputs": [],
   "source": [
    "#datetime.datetime.strptime(data[~data['Application Date'].isnull()]['Application Date'].str, '%m-%d-%y').strftime('%m/%d/%y')\n",
    "#data[~data['Application Date'].isnull()]['Application Date'].str\n",
    "#data[~data['Application Date'].isnull()]['Application Date']"
   ]
  }
 ],
 "metadata": {
  "kernelspec": {
   "display_name": "Python 3",
   "language": "python",
   "name": "python3"
  },
  "language_info": {
   "codemirror_mode": {
    "name": "ipython",
    "version": 3
   },
   "file_extension": ".py",
   "mimetype": "text/x-python",
   "name": "python",
   "nbconvert_exporter": "python",
   "pygments_lexer": "ipython3",
   "version": "3.6.0"
  }
 },
 "nbformat": 4,
 "nbformat_minor": 0
}
