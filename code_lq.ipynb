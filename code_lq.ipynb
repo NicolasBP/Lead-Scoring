{
 "cells": [
  {
   "cell_type": "code",
   "execution_count": 2,
   "metadata": {
    "collapsed": false
   },
   "outputs": [],
   "source": [
    "import pandas as pd\n",
    "import numpy as np"
   ]
  },
  {
   "cell_type": "code",
   "execution_count": 3,
   "metadata": {
    "collapsed": false
   },
   "outputs": [
    {
     "name": "stderr",
     "output_type": "stream",
     "text": [
      "Skipping line 177: expected 241 fields, saw 242\n",
      "Skipping line 185: expected 241 fields, saw 242\n",
      "\n",
      "Skipping line 31: expected 163 fields, saw 164\n",
      "Skipping line 43: expected 163 fields, saw 165\n",
      "Skipping line 59: expected 163 fields, saw 165\n",
      "\n",
      "Skipping line 72: expected 240 fields, saw 241\n",
      "Skipping line 80: expected 240 fields, saw 241\n"
     ]
    },
    {
     "name": "stdout",
     "output_type": "stream",
     "text": [
      "('%i,%i,%i,%i,%i,%i', 203, 56, 6, 106, 106, 54)\n"
     ]
    },
    {
     "name": "stderr",
     "output_type": "stream",
     "text": [
      "\n",
      "Skipping line 29: expected 163 fields, saw 164\n",
      "Skipping line 41: expected 163 fields, saw 165\n",
      "Skipping line 57: expected 163 fields, saw 165\n",
      "\n"
     ]
    }
   ],
   "source": [
    "data1  = pd.read_csv(open('Closings_LQ/lq1.csv','rU'), encoding = 'utf-8', engine = 'c', error_bad_lines = False)\n",
    "data2  = pd.read_csv(open('Closings_LQ/lq2.csv','rU'), encoding = 'utf-8', engine = 'c', error_bad_lines = False)\n",
    "data3  = pd.read_csv(open('Closings_LQ/questionaire.csv','rU'), encoding = 'utf-8', engine = 'c', error_bad_lines = False)\n",
    "data4  = pd.read_csv(open('Closings_LQ/questionnaire01.csv','rU'), encoding = 'utf-8', engine = 'c', error_bad_lines = False)\n",
    "data5  = pd.read_csv(open('Closings_LQ/questionnaire02.csv','rU'), encoding = 'utf-8', engine = 'c', error_bad_lines = False)\n",
    "data6  = pd.read_csv(open('Closings_LQ/questionnaire03.csv','rU'), encoding = 'utf-8', engine = 'c', error_bad_lines = False)\n",
    "\n",
    "print(\"%i,%i,%i,%i,%i,%i\", len(data1), len(data2), len(data3), len(data4), len(data4), len(data6))"
   ]
  },
  {
   "cell_type": "code",
   "execution_count": 4,
   "metadata": {
    "collapsed": false
   },
   "outputs": [
    {
     "name": "stderr",
     "output_type": "stream",
     "text": [
      "Skipping line 138: expected 239 fields, saw 240\n",
      "\n",
      "Skipping line 141: expected 328 fields, saw 329\n"
     ]
    },
    {
     "name": "stdout",
     "output_type": "stream",
     "text": [
      "('%i,%i', 139, 157, 4)\n"
     ]
    },
    {
     "name": "stderr",
     "output_type": "stream",
     "text": [
      "\n"
     ]
    }
   ],
   "source": [
    "data7  = pd.read_csv(open('Funded_LQ/lq1.csv','rU'), encoding = 'utf-8', engine = 'c', error_bad_lines = False)\n",
    "data8  = pd.read_csv(open('Funded_LQ/lq2.csv','rU'), encoding = 'utf-8', engine = 'c', error_bad_lines = False)\n",
    "data9  = pd.read_csv(open('Funded_LQ/questionaire.csv','rU'), encoding = 'utf-8', engine = 'c', error_bad_lines = False)\n",
    "\n",
    " \n",
    "print(\"%i,%i\", len(data7), len(data8), len(data9) )"
   ]
  },
  {
   "cell_type": "code",
   "execution_count": 5,
   "metadata": {
    "collapsed": false
   },
   "outputs": [
    {
     "name": "stdout",
     "output_type": "stream",
     "text": [
      "('%i,%i,%i', 63, 94, 7)\n"
     ]
    },
    {
     "name": "stderr",
     "output_type": "stream",
     "text": [
      "Skipping line 26: expected 274 fields, saw 275\n",
      "Skipping line 67: expected 274 fields, saw 275\n",
      "\n",
      "Skipping line 5: expected 124 fields, saw 125\n",
      "\n"
     ]
    }
   ],
   "source": [
    "data10  = pd.read_csv(open('Inactive_LQ/lq1.csv','rU'), encoding = 'utf-8', engine = 'c', error_bad_lines = False)\n",
    "data11  = pd.read_csv(open('Inactive_LQ/lq2.csv','rU'), encoding = 'utf-8', engine = 'c', error_bad_lines = False)\n",
    "data12 = pd.read_csv(open('Inactive_LQ/questionaire.csv','rU'), encoding = 'utf-8', engine = 'c', error_bad_lines = False)\n",
    "print(\"%i,%i,%i\", len(data10), len(data11), len(data12))"
   ]
  },
  {
   "cell_type": "code",
   "execution_count": 6,
   "metadata": {
    "collapsed": false
   },
   "outputs": [
    {
     "data": {
      "text/plain": [
       "1190"
      ]
     },
     "execution_count": 6,
     "metadata": {},
     "output_type": "execute_result"
    }
   ],
   "source": [
    "lqs = data1.append(data1, ignore_index = True)\n",
    "lqs = lqs.append(data2, ignore_index = True)\n",
    "lqs = lqs.append(data3, ignore_index = True)\n",
    "lqs = lqs.append(data4, ignore_index = True)\n",
    "lqs = lqs.append(data5, ignore_index = True)\n",
    "lqs = lqs.append(data6, ignore_index = True)\n",
    "lqs = lqs.append(data7, ignore_index = True)\n",
    "lqs = lqs.append(data8, ignore_index = True)\n",
    "lqs = lqs.append(data9, ignore_index = True)\n",
    "lqs = lqs.append(data10, ignore_index = True)\n",
    "lqs = lqs.append(data11, ignore_index = True)\n",
    "lqs = lqs.append(data12, ignore_index = True)\n",
    "len(lqs)"
   ]
  },
  {
   "cell_type": "code",
   "execution_count": 7,
   "metadata": {
    "collapsed": false
   },
   "outputs": [
    {
     "data": {
      "text/plain": [
       "331"
      ]
     },
     "execution_count": 7,
     "metadata": {},
     "output_type": "execute_result"
    }
   ],
   "source": [
    "len(lqs.columns.values)"
   ]
  },
  {
   "cell_type": "code",
   "execution_count": 8,
   "metadata": {
    "collapsed": false
   },
   "outputs": [
    {
     "data": {
      "text/plain": [
       "256"
      ]
     },
     "execution_count": 8,
     "metadata": {},
     "output_type": "execute_result"
    }
   ],
   "source": [
    "lqs = lqs.dropna(thresh=(len(lqs)-1180), axis = 1)\n",
    "len(lqs.columns.values)"
   ]
  },
  {
   "cell_type": "code",
   "execution_count": 9,
   "metadata": {
    "collapsed": false
   },
   "outputs": [
    {
     "data": {
      "text/plain": [
       "661"
      ]
     },
     "execution_count": 9,
     "metadata": {},
     "output_type": "execute_result"
    }
   ],
   "source": [
    "lqs = lqs.dropna(thresh=(len(lqs.columns.values)-250), axis = 0)\n",
    "len(lqs)"
   ]
  },
  {
   "cell_type": "code",
   "execution_count": 10,
   "metadata": {
    "collapsed": false
   },
   "outputs": [
    {
     "data": {
      "text/plain": [
       "661"
      ]
     },
     "execution_count": 10,
     "metadata": {},
     "output_type": "execute_result"
    }
   ],
   "source": [
    "lqs['TransactionID'] = 0\n",
    "lqs['TransactionID'] = lqs['invPropZip'].astype(unicode) + lqs['Unnamed: 0'].str.split(' ').apply(pd.Series, 1)[0].str[:4]\n",
    "len(lqs)"
   ]
  },
  {
   "cell_type": "code",
   "execution_count": 11,
   "metadata": {
    "collapsed": false
   },
   "outputs": [],
   "source": [
    "lqs.to_csv('all_lqs.csv')"
   ]
  }
 ],
 "metadata": {
  "kernelspec": {
   "display_name": "Python 3",
   "language": "python",
   "name": "python3"
  },
  "language_info": {
   "codemirror_mode": {
    "name": "ipython",
    "version": 3
   },
   "file_extension": ".py",
   "mimetype": "text/x-python",
   "name": "python",
   "nbconvert_exporter": "python",
   "pygments_lexer": "ipython3",
   "version": "3.6.0"
  }
 },
 "nbformat": 4,
 "nbformat_minor": 0
}
