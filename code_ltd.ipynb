{
 "cells": [
  {
   "cell_type": "code",
   "execution_count": 1,
   "metadata": {
    "collapsed": false
   },
   "outputs": [],
   "source": [
    "import pandas as pd\n",
    "import numpy as np"
   ]
  },
  {
   "cell_type": "code",
   "execution_count": 2,
   "metadata": {
    "collapsed": false
   },
   "outputs": [
    {
     "name": "stdout",
     "output_type": "stream",
     "text": [
      "('%i,%i,%i', 175, 69, 20)\n"
     ]
    },
    {
     "name": "stderr",
     "output_type": "stream",
     "text": [
      "Skipping line 56: expected 62 fields, saw 63\n",
      "\n"
     ]
    }
   ],
   "source": [
    "data1  = pd.read_csv(open('Closings_LTD/ltd1.csv','rU'), encoding = 'utf-8', engine = 'c', error_bad_lines = False)\n",
    "data2  = pd.read_csv(open('Closings_LTD/ltd2.csv','rU'), encoding = 'utf-8', engine = 'c', error_bad_lines = False)\n",
    "data3  = pd.read_csv(open('Closings_LTD/ltd3.csv','rU'), encoding = 'utf-8', engine = 'c', error_bad_lines = False)\n",
    "print(\"%i,%i,%i\", len(data1), len(data2), len(data3))"
   ]
  },
  {
   "cell_type": "code",
   "execution_count": 3,
   "metadata": {
    "collapsed": false
   },
   "outputs": [
    {
     "name": "stdout",
     "output_type": "stream",
     "text": [
      "('%i,%i,%i,%i,%i', 6, 137, 2, 142, 1)\n"
     ]
    },
    {
     "name": "stderr",
     "output_type": "stream",
     "text": [
      "Skipping line 137: expected 65 fields, saw 66\n",
      "Skipping line 138: expected 65 fields, saw 66\n",
      "Skipping line 139: expected 65 fields, saw 66\n",
      "\n"
     ]
    }
   ],
   "source": [
    "data4  = pd.read_csv(open('Funded_LTD/ltd1.csv','rU'), encoding = 'utf-8', engine = 'c', error_bad_lines = False)\n",
    "data5  = pd.read_csv(open('Funded_LTD/ltd2.csv','rU'), encoding = 'utf-8', engine = 'c', error_bad_lines = False)\n",
    "data6  = pd.read_csv(open('Funded_LTD/ltd3.csv','rU'), encoding = 'utf-8', engine = 'c', error_bad_lines = False)\n",
    "data7  = pd.read_csv(open('Funded_LTD/ltd4.csv','rU'), encoding = 'utf-8', engine = 'c', error_bad_lines = False)\n",
    "data8  = pd.read_csv(open('Funded_LTD/finallp.csv','rU'), encoding = 'utf-8', engine = 'c', error_bad_lines = False)\n",
    "\n",
    "print(\"%i,%i,%i,%i,%i\", len(data4), len(data5), len(data6), len(data7), len(data8))"
   ]
  },
  {
   "cell_type": "code",
   "execution_count": 4,
   "metadata": {
    "collapsed": false
   },
   "outputs": [
    {
     "name": "stdout",
     "output_type": "stream",
     "text": [
      "('%i,%i,%i,%i,%i', 46, 49, 3)\n"
     ]
    },
    {
     "name": "stderr",
     "output_type": "stream",
     "text": [
      "Skipping line 42: expected 65 fields, saw 66\n",
      "Skipping line 46: expected 65 fields, saw 66\n",
      "Skipping line 49: expected 65 fields, saw 66\n",
      "\n"
     ]
    }
   ],
   "source": [
    "data9  = pd.read_csv(open('Inactive_LTD/ltd1.csv','rU'), encoding = 'utf-8', engine = 'c', error_bad_lines = False)\n",
    "data10  = pd.read_csv(open('Inactive_LTD/ltd2.csv','rU'), encoding = 'utf-8', engine = 'c', error_bad_lines = False)\n",
    "data11 = pd.read_csv(open('Inactive_LTD/finallp.csv','rU'), encoding = 'utf-8', engine = 'c', error_bad_lines = False)\n",
    "print(\"%i,%i,%i,%i,%i\", len(data9), len(data10), len(data11))"
   ]
  },
  {
   "cell_type": "code",
   "execution_count": 5,
   "metadata": {
    "collapsed": false
   },
   "outputs": [
    {
     "data": {
      "text/plain": [
       "825"
      ]
     },
     "execution_count": 5,
     "metadata": {},
     "output_type": "execute_result"
    }
   ],
   "source": [
    "ltds = data1.append(data1, ignore_index = True)\n",
    "ltds = ltds.append(data2, ignore_index = True)\n",
    "ltds = ltds.append(data3, ignore_index = True)\n",
    "ltds = ltds.append(data4, ignore_index = True)\n",
    "ltds = ltds.append(data5, ignore_index = True)\n",
    "ltds = ltds.append(data6, ignore_index = True)\n",
    "ltds = ltds.append(data7, ignore_index = True)\n",
    "ltds = ltds.append(data8, ignore_index = True)\n",
    "ltds = ltds.append(data9, ignore_index = True)\n",
    "ltds = ltds.append(data10, ignore_index = True)\n",
    "ltds = ltds.append(data11, ignore_index = True)\n",
    "len(ltds)"
   ]
  },
  {
   "cell_type": "code",
   "execution_count": 6,
   "metadata": {
    "collapsed": false
   },
   "outputs": [
    {
     "data": {
      "text/plain": [
       "182"
      ]
     },
     "execution_count": 6,
     "metadata": {},
     "output_type": "execute_result"
    }
   ],
   "source": [
    "len(ltds.columns.values)"
   ]
  },
  {
   "cell_type": "code",
   "execution_count": 7,
   "metadata": {
    "collapsed": false
   },
   "outputs": [],
   "source": [
    "ltds.loc[ltds['Prop Add'].isnull(), 'Prop Add'] = ltds.loc[ltds['Prop Add'].isnull(), 'PropertyAddress']"
   ]
  },
  {
   "cell_type": "code",
   "execution_count": 8,
   "metadata": {
    "collapsed": false
   },
   "outputs": [
    {
     "data": {
      "text/plain": [
       "60"
      ]
     },
     "execution_count": 8,
     "metadata": {},
     "output_type": "execute_result"
    }
   ],
   "source": [
    "ltds = ltds.dropna(thresh=(len(ltds)-600), axis = 1)\n",
    "len(ltds.columns.values)"
   ]
  },
  {
   "cell_type": "code",
   "execution_count": 9,
   "metadata": {
    "collapsed": false
   },
   "outputs": [
    {
     "data": {
      "text/plain": [
       "787"
      ]
     },
     "execution_count": 9,
     "metadata": {},
     "output_type": "execute_result"
    }
   ],
   "source": [
    "ltds = ltds.dropna(thresh=(len(ltds.columns.values)-55), axis = 0)\n",
    "len(ltds)\n",
    "#len(ltds.columns.values)"
   ]
  },
  {
   "cell_type": "code",
   "execution_count": 10,
   "metadata": {
    "collapsed": false
   },
   "outputs": [],
   "source": [
    "ltds['TransactionID'] = 0\n",
    "ltds['TransactionID'] = ltds['Zip'].astype(unicode) + ltds['Prop Add'].str.split(' ').apply(pd.Series, 1)[0].str[:4]"
   ]
  },
  {
   "cell_type": "code",
   "execution_count": 11,
   "metadata": {
    "collapsed": false
   },
   "outputs": [],
   "source": [
    "ltds.to_csv('all_ltds.csv')"
   ]
  }
 ],
 "metadata": {
  "kernelspec": {
   "display_name": "Python 3",
   "language": "python",
   "name": "python3"
  },
  "language_info": {
   "codemirror_mode": {
    "name": "ipython",
    "version": 3
   },
   "file_extension": ".py",
   "mimetype": "text/x-python",
   "name": "python",
   "nbconvert_exporter": "python",
   "pygments_lexer": "ipython3",
   "version": "3.6.0"
  }
 },
 "nbformat": 4,
 "nbformat_minor": 0
}
