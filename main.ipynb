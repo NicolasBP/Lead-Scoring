{
 "cells": [
  {
   "cell_type": "code",
   "execution_count": 182,
   "metadata": {
    "collapsed": false
   },
   "outputs": [],
   "source": [
    "import pandas as pd\n",
    "import numpy as np"
   ]
  },
  {
   "cell_type": "code",
   "execution_count": 183,
   "metadata": {
    "collapsed": false
   },
   "outputs": [],
   "source": [
    "lp  = pd.read_csv(open('all_loan_proposals.csv','rU'), encoding = 'utf-8', engine = 'c', error_bad_lines = False)"
   ]
  },
  {
   "cell_type": "code",
   "execution_count": 184,
   "metadata": {
    "collapsed": false
   },
   "outputs": [
    {
     "data": {
      "text/plain": [
       "0    2200G\n",
       "1    2849P\n",
       "2    7831B\n",
       "3    1042G\n",
       "4    0105C\n",
       "Name: TransactionID, dtype: object"
      ]
     },
     "execution_count": 184,
     "metadata": {},
     "output_type": "execute_result"
    }
   ],
   "source": [
    "lp['TransactionID'] = 0\n",
    "lp['TransactionID'] = lp['PA'].str.split(' ').apply(pd.Series, 1)[0].str[:4].str.zfill(4) + lp['PA'].str.split(' ').apply(pd.Series, 1)[1].str[:1]# + lp['ELA'].str.split('.').apply(pd.Series, 1)[0].str[:4].str.zfill(4)\n",
    "lp['TransactionID'][:5]"
   ]
  },
  {
   "cell_type": "code",
   "execution_count": 185,
   "metadata": {
    "collapsed": false
   },
   "outputs": [
    {
     "data": {
      "text/plain": [
       "585"
      ]
     },
     "execution_count": 185,
     "metadata": {},
     "output_type": "execute_result"
    }
   ],
   "source": [
    "len(lp)"
   ]
  },
  {
   "cell_type": "code",
   "execution_count": 186,
   "metadata": {
    "collapsed": false
   },
   "outputs": [],
   "source": [
    "closings  = pd.read_csv(open('Closings_Pipeline/ClosingsData.csv','rU'), encoding = 'utf-8', engine = 'c', error_bad_lines = False)#, index_col = 'TransactionID')\n",
    "closings['Loan Amount'] = closings['Loan Amount'].astype(str)"
   ]
  },
  {
   "cell_type": "code",
   "execution_count": 187,
   "metadata": {
    "collapsed": false
   },
   "outputs": [
    {
     "data": {
      "text/plain": [
       "0    2484S\n",
       "1    2643C\n",
       "2    3644C\n",
       "3    89023\n",
       "4    0179Q\n",
       "Name: TransactionID, dtype: object"
      ]
     },
     "execution_count": 187,
     "metadata": {},
     "output_type": "execute_result"
    }
   ],
   "source": [
    "closings['TransactionID'] = 0\n",
    "closings['TransactionID'] = closings['Property Address'].str.split(' ').apply(pd.Series, 1)[0].str[:4].str.zfill(4) + closings['Property Address'].str.split(' ').apply(pd.Series, 1)[1].str[:1]# + closings['Loan Amount'].str.split('.').apply(pd.Series, 1)[0].str[:4].str.zfill(4)\n",
    "closings['TransactionID'][:5]"
   ]
  },
  {
   "cell_type": "code",
   "execution_count": 188,
   "metadata": {
    "collapsed": false
   },
   "outputs": [
    {
     "data": {
      "text/plain": [
       "1202"
      ]
     },
     "execution_count": 188,
     "metadata": {},
     "output_type": "execute_result"
    }
   ],
   "source": [
    "len(closings)"
   ]
  },
  {
   "cell_type": "code",
   "execution_count": 189,
   "metadata": {
    "collapsed": false
   },
   "outputs": [
    {
     "data": {
      "text/plain": [
       "63"
      ]
     },
     "execution_count": 189,
     "metadata": {},
     "output_type": "execute_result"
    }
   ],
   "source": [
    "merged = pd.merge(closings, lp, how = 'left', on = 'TransactionID')\n",
    "len(merged.columns)"
   ]
  },
  {
   "cell_type": "code",
   "execution_count": 190,
   "metadata": {
    "collapsed": false
   },
   "outputs": [
    {
     "data": {
      "text/plain": [
       "1206"
      ]
     },
     "execution_count": 190,
     "metadata": {},
     "output_type": "execute_result"
    }
   ],
   "source": [
    "#merged = merged.dropna(thresh=(len(merged.columns)-50), axis = 0)\n",
    "#merged = merged.drop_duplicates('Property Address', keep='first')##\n",
    "len(merged)"
   ]
  },
  {
   "cell_type": "code",
   "execution_count": 191,
   "metadata": {
    "collapsed": false
   },
   "outputs": [],
   "source": [
    "merged.to_csv('all_lp_transactions.csv')"
   ]
  },
  {
   "cell_type": "code",
   "execution_count": 192,
   "metadata": {
    "collapsed": false
   },
   "outputs": [],
   "source": [
    "inactive_lps = pd.read_csv(open('inactive_loan_proposals.csv','rU'), encoding = 'utf-8', engine = 'c', error_bad_lines = False)#, index_col = 'TransactionID')"
   ]
  },
  {
   "cell_type": "code",
   "execution_count": 193,
   "metadata": {
    "collapsed": false
   },
   "outputs": [
    {
     "data": {
      "text/plain": [
       "1433"
      ]
     },
     "execution_count": 193,
     "metadata": {},
     "output_type": "execute_result"
    }
   ],
   "source": [
    "merged = merged.append(inactive_lps, ignore_index = True)\n",
    "len(merged)"
   ]
  },
  {
   "cell_type": "code",
   "execution_count": 194,
   "metadata": {
    "collapsed": false
   },
   "outputs": [
    {
     "data": {
      "text/plain": [
       "1433"
      ]
     },
     "execution_count": 194,
     "metadata": {},
     "output_type": "execute_result"
    }
   ],
   "source": [
    "#merged = merged[merged['PA'].notnull()].drop_duplicates('PA', keep='first')##\n",
    "len(merged)"
   ]
  },
  {
   "cell_type": "code",
   "execution_count": 195,
   "metadata": {
    "collapsed": false
   },
   "outputs": [],
   "source": [
    "merged.to_csv('all_lp_transactions.csv') #Need to impute values and extract information about borrower from investor experience field"
   ]
  },
  {
   "cell_type": "code",
   "execution_count": 196,
   "metadata": {
    "collapsed": false
   },
   "outputs": [
    {
     "data": {
      "text/plain": [
       "0    NaN\n",
       "1    NaN\n",
       "2    NaN\n",
       "3    NaN\n",
       "4    NaN\n",
       "Name: IREIE, dtype: object"
      ]
     },
     "execution_count": 196,
     "metadata": {},
     "output_type": "execute_result"
    }
   ],
   "source": [
    "#clean IREIE column: eliminate + signs (for cases like 50+ flips) and replace number strings with ints\n",
    "def clean_unstructured_data(dataframe, dirty_column, dirty_characters):\n",
    "    for dirty_character in dirty_characters:\n",
    "       dataframe[dirty_column] = dataframe[dirty_column].str.replace(dirty_character, '')\n",
    "    return dataframe[dirty_column]\n",
    "dirty_characters = ['+', '/', ',']\n",
    "merged['IREIE'] = clean_unstructured_data(merged, 'IREIE', dirty_characters)\n",
    "merged['IREIE'][:5]"
   ]
  },
  {
   "cell_type": "code",
   "execution_count": 197,
   "metadata": {
    "collapsed": false
   },
   "outputs": [
    {
     "data": {
      "text/html": [
       "<div style=\"max-width:1500px;overflow:auto;\">\n",
       "<table border=\"1\" class=\"dataframe\">\n",
       "  <thead>\n",
       "    <tr style=\"text-align: right;\">\n",
       "      <th></th>\n",
       "      <th>Completed Properties</th>\n",
       "      <th>IREIE</th>\n",
       "    </tr>\n",
       "  </thead>\n",
       "  <tbody>\n",
       "    <tr>\n",
       "      <th>0</th>\n",
       "      <td>NaN</td>\n",
       "      <td>NaN</td>\n",
       "    </tr>\n",
       "    <tr>\n",
       "      <th>1</th>\n",
       "      <td>NaN</td>\n",
       "      <td>NaN</td>\n",
       "    </tr>\n",
       "    <tr>\n",
       "      <th>2</th>\n",
       "      <td>NaN</td>\n",
       "      <td>NaN</td>\n",
       "    </tr>\n",
       "    <tr>\n",
       "      <th>3</th>\n",
       "      <td>NaN</td>\n",
       "      <td>NaN</td>\n",
       "    </tr>\n",
       "    <tr>\n",
       "      <th>4</th>\n",
       "      <td>NaN</td>\n",
       "      <td>NaN</td>\n",
       "    </tr>\n",
       "    <tr>\n",
       "      <th>5</th>\n",
       "      <td>NaN</td>\n",
       "      <td>NaN</td>\n",
       "    </tr>\n",
       "    <tr>\n",
       "      <th>6</th>\n",
       "      <td>NaN</td>\n",
       "      <td>NaN</td>\n",
       "    </tr>\n",
       "    <tr>\n",
       "      <th>7</th>\n",
       "      <td>NaN</td>\n",
       "      <td>NaN</td>\n",
       "    </tr>\n",
       "    <tr>\n",
       "      <th>8</th>\n",
       "      <td>NaN</td>\n",
       "      <td>NaN</td>\n",
       "    </tr>\n",
       "    <tr>\n",
       "      <th>9</th>\n",
       "      <td>NaN</td>\n",
       "      <td>NaN</td>\n",
       "    </tr>\n",
       "    <tr>\n",
       "      <th>10</th>\n",
       "      <td>NaN</td>\n",
       "      <td>NaN</td>\n",
       "    </tr>\n",
       "    <tr>\n",
       "      <th>11</th>\n",
       "      <td>NaN</td>\n",
       "      <td>NaN</td>\n",
       "    </tr>\n",
       "    <tr>\n",
       "      <th>12</th>\n",
       "      <td>NaN</td>\n",
       "      <td>NaN</td>\n",
       "    </tr>\n",
       "    <tr>\n",
       "      <th>13</th>\n",
       "      <td>NaN</td>\n",
       "      <td>NaN</td>\n",
       "    </tr>\n",
       "    <tr>\n",
       "      <th>14</th>\n",
       "      <td>NaN</td>\n",
       "      <td>NaN</td>\n",
       "    </tr>\n",
       "    <tr>\n",
       "      <th>15</th>\n",
       "      <td>NaN</td>\n",
       "      <td>NaN</td>\n",
       "    </tr>\n",
       "    <tr>\n",
       "      <th>16</th>\n",
       "      <td>NaN</td>\n",
       "      <td>NaN</td>\n",
       "    </tr>\n",
       "    <tr>\n",
       "      <th>17</th>\n",
       "      <td>NaN</td>\n",
       "      <td>NaN</td>\n",
       "    </tr>\n",
       "    <tr>\n",
       "      <th>18</th>\n",
       "      <td>NaN</td>\n",
       "      <td>NaN</td>\n",
       "    </tr>\n",
       "    <tr>\n",
       "      <th>19</th>\n",
       "      <td>NaN</td>\n",
       "      <td>NaN</td>\n",
       "    </tr>\n",
       "  </tbody>\n",
       "</table>\n",
       "</div>"
      ],
      "text/plain": [
       "   Completed Properties IREIE\n",
       "0                   NaN   NaN\n",
       "1                   NaN   NaN\n",
       "2                   NaN   NaN\n",
       "3                   NaN   NaN\n",
       "4                   NaN   NaN\n",
       "5                   NaN   NaN\n",
       "6                   NaN   NaN\n",
       "7                   NaN   NaN\n",
       "8                   NaN   NaN\n",
       "9                   NaN   NaN\n",
       "10                  NaN   NaN\n",
       "11                  NaN   NaN\n",
       "12                  NaN   NaN\n",
       "13                  NaN   NaN\n",
       "14                  NaN   NaN\n",
       "15                  NaN   NaN\n",
       "16                  NaN   NaN\n",
       "17                  NaN   NaN\n",
       "18                  NaN   NaN\n",
       "19                  NaN   NaN"
      ]
     },
     "execution_count": 197,
     "metadata": {},
     "output_type": "execute_result"
    }
   ],
   "source": [
    "import re\n",
    "#Cases for when borrower has completed one property\n",
    "def first_property(x):\n",
    "    keywords = ['property', 'completed', 'flip', 'rental', 'investment property', 'tenant occu', 'occup', \n",
    "                'rehab property', 'projects', 'prop', 'one', 'first property', 'first project', 'first rehab', 'first rental', \n",
    "                'home']\n",
    "    pattern = '|'.join(keywords)\n",
    "    first_property = re.search(pattern,x['IREIE'], flags=re.IGNORECASE)\n",
    "    if(first_property):\n",
    "            return '1'\n",
    "    return '0'\n",
    "merged['Completed Properties'] = merged[~merged['IREIE'].isnull()].apply(first_property, axis = 1)\n",
    "merged[['Completed Properties','IREIE']][:20]\n"
   ]
  },
  {
   "cell_type": "code",
   "execution_count": 198,
   "metadata": {
    "collapsed": false
   },
   "outputs": [
    {
     "data": {
      "text/html": [
       "<div style=\"max-width:1500px;overflow:auto;\">\n",
       "<table border=\"1\" class=\"dataframe\">\n",
       "  <thead>\n",
       "    <tr style=\"text-align: right;\">\n",
       "      <th></th>\n",
       "      <th>Completed Properties</th>\n",
       "      <th>IREIE</th>\n",
       "    </tr>\n",
       "  </thead>\n",
       "  <tbody>\n",
       "    <tr>\n",
       "      <th>0</th>\n",
       "      <td>NaN</td>\n",
       "      <td>NaN</td>\n",
       "    </tr>\n",
       "    <tr>\n",
       "      <th>1</th>\n",
       "      <td>NaN</td>\n",
       "      <td>NaN</td>\n",
       "    </tr>\n",
       "    <tr>\n",
       "      <th>2</th>\n",
       "      <td>NaN</td>\n",
       "      <td>NaN</td>\n",
       "    </tr>\n",
       "    <tr>\n",
       "      <th>3</th>\n",
       "      <td>NaN</td>\n",
       "      <td>NaN</td>\n",
       "    </tr>\n",
       "    <tr>\n",
       "      <th>4</th>\n",
       "      <td>NaN</td>\n",
       "      <td>NaN</td>\n",
       "    </tr>\n",
       "    <tr>\n",
       "      <th>5</th>\n",
       "      <td>NaN</td>\n",
       "      <td>NaN</td>\n",
       "    </tr>\n",
       "    <tr>\n",
       "      <th>6</th>\n",
       "      <td>NaN</td>\n",
       "      <td>NaN</td>\n",
       "    </tr>\n",
       "    <tr>\n",
       "      <th>7</th>\n",
       "      <td>NaN</td>\n",
       "      <td>NaN</td>\n",
       "    </tr>\n",
       "    <tr>\n",
       "      <th>8</th>\n",
       "      <td>NaN</td>\n",
       "      <td>NaN</td>\n",
       "    </tr>\n",
       "    <tr>\n",
       "      <th>9</th>\n",
       "      <td>NaN</td>\n",
       "      <td>NaN</td>\n",
       "    </tr>\n",
       "    <tr>\n",
       "      <th>10</th>\n",
       "      <td>NaN</td>\n",
       "      <td>NaN</td>\n",
       "    </tr>\n",
       "    <tr>\n",
       "      <th>11</th>\n",
       "      <td>NaN</td>\n",
       "      <td>NaN</td>\n",
       "    </tr>\n",
       "    <tr>\n",
       "      <th>12</th>\n",
       "      <td>NaN</td>\n",
       "      <td>NaN</td>\n",
       "    </tr>\n",
       "    <tr>\n",
       "      <th>13</th>\n",
       "      <td>NaN</td>\n",
       "      <td>NaN</td>\n",
       "    </tr>\n",
       "    <tr>\n",
       "      <th>14</th>\n",
       "      <td>NaN</td>\n",
       "      <td>NaN</td>\n",
       "    </tr>\n",
       "    <tr>\n",
       "      <th>15</th>\n",
       "      <td>NaN</td>\n",
       "      <td>NaN</td>\n",
       "    </tr>\n",
       "    <tr>\n",
       "      <th>16</th>\n",
       "      <td>NaN</td>\n",
       "      <td>NaN</td>\n",
       "    </tr>\n",
       "    <tr>\n",
       "      <th>17</th>\n",
       "      <td>NaN</td>\n",
       "      <td>NaN</td>\n",
       "    </tr>\n",
       "    <tr>\n",
       "      <th>18</th>\n",
       "      <td>NaN</td>\n",
       "      <td>NaN</td>\n",
       "    </tr>\n",
       "    <tr>\n",
       "      <th>19</th>\n",
       "      <td>NaN</td>\n",
       "      <td>NaN</td>\n",
       "    </tr>\n",
       "  </tbody>\n",
       "</table>\n",
       "</div>"
      ],
      "text/plain": [
       "   Completed Properties IREIE\n",
       "0                   NaN   NaN\n",
       "1                   NaN   NaN\n",
       "2                   NaN   NaN\n",
       "3                   NaN   NaN\n",
       "4                   NaN   NaN\n",
       "5                   NaN   NaN\n",
       "6                   NaN   NaN\n",
       "7                   NaN   NaN\n",
       "8                   NaN   NaN\n",
       "9                   NaN   NaN\n",
       "10                  NaN   NaN\n",
       "11                  NaN   NaN\n",
       "12                  NaN   NaN\n",
       "13                  NaN   NaN\n",
       "14                  NaN   NaN\n",
       "15                  NaN   NaN\n",
       "16                  NaN   NaN\n",
       "17                  NaN   NaN\n",
       "18                  NaN   NaN\n",
       "19                  NaN   NaN"
      ]
     },
     "execution_count": 198,
     "metadata": {},
     "output_type": "execute_result"
    }
   ],
   "source": [
    "\n",
    "def properties_completed(x):\n",
    "    keywords = ['properties', 'completed', 'flips', 'rental', 'investment', 'tenant occu', 'occup', 'rehab', 'projects', 'prop',\n",
    "                'homes']\n",
    "    for keyword in keywords:\n",
    "        pattern = '\\d+ (?='+keyword+')'\n",
    "        m = re.search(pattern, x['IREIE'])\n",
    "        if(m and m.group(0).rstrip().isdigit()):\n",
    "            return m.group(0).rstrip()\n",
    "    return x['Completed Properties']\n",
    "merged['Completed Properties'] = merged[~merged['IREIE'].isnull()].apply(properties_completed, axis = 1)\n",
    "merged[['Completed Properties','IREIE']][:20]"
   ]
  },
  {
   "cell_type": "code",
   "execution_count": 199,
   "metadata": {
    "collapsed": false
   },
   "outputs": [
    {
     "data": {
      "text/html": [
       "<div style=\"max-width:1500px;overflow:auto;\">\n",
       "<table border=\"1\" class=\"dataframe\">\n",
       "  <thead>\n",
       "    <tr style=\"text-align: right;\">\n",
       "      <th></th>\n",
       "      <th>Years of Experience</th>\n",
       "      <th>IREIE</th>\n",
       "    </tr>\n",
       "  </thead>\n",
       "  <tbody>\n",
       "    <tr>\n",
       "      <th>0</th>\n",
       "      <td>NaN</td>\n",
       "      <td>NaN</td>\n",
       "    </tr>\n",
       "    <tr>\n",
       "      <th>1</th>\n",
       "      <td>NaN</td>\n",
       "      <td>NaN</td>\n",
       "    </tr>\n",
       "    <tr>\n",
       "      <th>2</th>\n",
       "      <td>NaN</td>\n",
       "      <td>NaN</td>\n",
       "    </tr>\n",
       "    <tr>\n",
       "      <th>3</th>\n",
       "      <td>NaN</td>\n",
       "      <td>NaN</td>\n",
       "    </tr>\n",
       "    <tr>\n",
       "      <th>4</th>\n",
       "      <td>NaN</td>\n",
       "      <td>NaN</td>\n",
       "    </tr>\n",
       "    <tr>\n",
       "      <th>5</th>\n",
       "      <td>NaN</td>\n",
       "      <td>NaN</td>\n",
       "    </tr>\n",
       "    <tr>\n",
       "      <th>6</th>\n",
       "      <td>NaN</td>\n",
       "      <td>NaN</td>\n",
       "    </tr>\n",
       "    <tr>\n",
       "      <th>7</th>\n",
       "      <td>NaN</td>\n",
       "      <td>NaN</td>\n",
       "    </tr>\n",
       "    <tr>\n",
       "      <th>8</th>\n",
       "      <td>NaN</td>\n",
       "      <td>NaN</td>\n",
       "    </tr>\n",
       "    <tr>\n",
       "      <th>9</th>\n",
       "      <td>NaN</td>\n",
       "      <td>NaN</td>\n",
       "    </tr>\n",
       "    <tr>\n",
       "      <th>10</th>\n",
       "      <td>NaN</td>\n",
       "      <td>NaN</td>\n",
       "    </tr>\n",
       "    <tr>\n",
       "      <th>11</th>\n",
       "      <td>NaN</td>\n",
       "      <td>NaN</td>\n",
       "    </tr>\n",
       "    <tr>\n",
       "      <th>12</th>\n",
       "      <td>NaN</td>\n",
       "      <td>NaN</td>\n",
       "    </tr>\n",
       "    <tr>\n",
       "      <th>13</th>\n",
       "      <td>NaN</td>\n",
       "      <td>NaN</td>\n",
       "    </tr>\n",
       "    <tr>\n",
       "      <th>14</th>\n",
       "      <td>NaN</td>\n",
       "      <td>NaN</td>\n",
       "    </tr>\n",
       "    <tr>\n",
       "      <th>15</th>\n",
       "      <td>NaN</td>\n",
       "      <td>NaN</td>\n",
       "    </tr>\n",
       "    <tr>\n",
       "      <th>16</th>\n",
       "      <td>NaN</td>\n",
       "      <td>NaN</td>\n",
       "    </tr>\n",
       "    <tr>\n",
       "      <th>17</th>\n",
       "      <td>NaN</td>\n",
       "      <td>NaN</td>\n",
       "    </tr>\n",
       "    <tr>\n",
       "      <th>18</th>\n",
       "      <td>NaN</td>\n",
       "      <td>NaN</td>\n",
       "    </tr>\n",
       "    <tr>\n",
       "      <th>19</th>\n",
       "      <td>NaN</td>\n",
       "      <td>NaN</td>\n",
       "    </tr>\n",
       "  </tbody>\n",
       "</table>\n",
       "</div>"
      ],
      "text/plain": [
       "   Years of Experience IREIE\n",
       "0                  NaN   NaN\n",
       "1                  NaN   NaN\n",
       "2                  NaN   NaN\n",
       "3                  NaN   NaN\n",
       "4                  NaN   NaN\n",
       "5                  NaN   NaN\n",
       "6                  NaN   NaN\n",
       "7                  NaN   NaN\n",
       "8                  NaN   NaN\n",
       "9                  NaN   NaN\n",
       "10                 NaN   NaN\n",
       "11                 NaN   NaN\n",
       "12                 NaN   NaN\n",
       "13                 NaN   NaN\n",
       "14                 NaN   NaN\n",
       "15                 NaN   NaN\n",
       "16                 NaN   NaN\n",
       "17                 NaN   NaN\n",
       "18                 NaN   NaN\n",
       "19                 NaN   NaN"
      ]
     },
     "execution_count": 199,
     "metadata": {},
     "output_type": "execute_result"
    }
   ],
   "source": [
    "#Cases for when borrower has one year of experience\n",
    "def first_year(x):\n",
    "    keywords = ['year', 'yr', 'Yes', 'experience']\n",
    "    pattern = '|'.join(keywords)\n",
    "    first_year = re.search(pattern,x['IREIE'], flags=re.IGNORECASE)\n",
    "    if(first_year):\n",
    "            return '1'\n",
    "    return '0'\n",
    "merged['Years of Experience'] = merged[~merged['IREIE'].isnull()].apply(first_year, axis = 1)\n",
    "merged[['Years of Experience','IREIE']][:20]"
   ]
  },
  {
   "cell_type": "code",
   "execution_count": 200,
   "metadata": {
    "collapsed": false
   },
   "outputs": [
    {
     "data": {
      "text/html": [
       "<div style=\"max-width:1500px;overflow:auto;\">\n",
       "<table border=\"1\" class=\"dataframe\">\n",
       "  <thead>\n",
       "    <tr style=\"text-align: right;\">\n",
       "      <th></th>\n",
       "      <th>Years of Experience</th>\n",
       "      <th>IREIE</th>\n",
       "    </tr>\n",
       "  </thead>\n",
       "  <tbody>\n",
       "    <tr>\n",
       "      <th>0</th>\n",
       "      <td>NaN</td>\n",
       "      <td>NaN</td>\n",
       "    </tr>\n",
       "    <tr>\n",
       "      <th>1</th>\n",
       "      <td>NaN</td>\n",
       "      <td>NaN</td>\n",
       "    </tr>\n",
       "    <tr>\n",
       "      <th>2</th>\n",
       "      <td>NaN</td>\n",
       "      <td>NaN</td>\n",
       "    </tr>\n",
       "    <tr>\n",
       "      <th>3</th>\n",
       "      <td>NaN</td>\n",
       "      <td>NaN</td>\n",
       "    </tr>\n",
       "    <tr>\n",
       "      <th>4</th>\n",
       "      <td>NaN</td>\n",
       "      <td>NaN</td>\n",
       "    </tr>\n",
       "  </tbody>\n",
       "</table>\n",
       "</div>"
      ],
      "text/plain": [
       "  Years of Experience IREIE\n",
       "0                 NaN   NaN\n",
       "1                 NaN   NaN\n",
       "2                 NaN   NaN\n",
       "3                 NaN   NaN\n",
       "4                 NaN   NaN"
      ]
     },
     "execution_count": 200,
     "metadata": {},
     "output_type": "execute_result"
    }
   ],
   "source": [
    "def years_experience(x):\n",
    "    keywords = ['years', 'yrs']\n",
    "    for keyword in keywords:\n",
    "        pattern = '\\d+ (?='+keyword+')'\n",
    "        m = re.search(pattern, x['IREIE'])\n",
    "        if(m and m.group(0).rstrip().isdigit()):\n",
    "            return m.group(0).rstrip()\n",
    "    return x['Years of Experience']\n",
    "merged['Years of Experience'] = merged[~merged['IREIE'].isnull()].apply(years_experience, axis = 1)\n",
    "merged[['Years of Experience','IREIE']][:5]"
   ]
  },
  {
   "cell_type": "code",
   "execution_count": 201,
   "metadata": {
    "collapsed": false
   },
   "outputs": [
    {
     "data": {
      "text/html": [
       "<div style=\"max-width:1500px;overflow:auto;\">\n",
       "<table border=\"1\" class=\"dataframe\">\n",
       "  <thead>\n",
       "    <tr style=\"text-align: right;\">\n",
       "      <th></th>\n",
       "      <th>Repeat Borrower</th>\n",
       "      <th>IREIE</th>\n",
       "    </tr>\n",
       "  </thead>\n",
       "  <tbody>\n",
       "    <tr>\n",
       "      <th>0</th>\n",
       "      <td>NaN</td>\n",
       "      <td>NaN</td>\n",
       "    </tr>\n",
       "    <tr>\n",
       "      <th>1</th>\n",
       "      <td>NaN</td>\n",
       "      <td>NaN</td>\n",
       "    </tr>\n",
       "    <tr>\n",
       "      <th>2</th>\n",
       "      <td>NaN</td>\n",
       "      <td>NaN</td>\n",
       "    </tr>\n",
       "    <tr>\n",
       "      <th>3</th>\n",
       "      <td>NaN</td>\n",
       "      <td>NaN</td>\n",
       "    </tr>\n",
       "    <tr>\n",
       "      <th>4</th>\n",
       "      <td>NaN</td>\n",
       "      <td>NaN</td>\n",
       "    </tr>\n",
       "  </tbody>\n",
       "</table>\n",
       "</div>"
      ],
      "text/plain": [
       "  Repeat Borrower IREIE\n",
       "0             NaN   NaN\n",
       "1             NaN   NaN\n",
       "2             NaN   NaN\n",
       "3             NaN   NaN\n",
       "4             NaN   NaN"
      ]
     },
     "execution_count": 201,
     "metadata": {},
     "output_type": "execute_result"
    }
   ],
   "source": [
    "def is_repeat_borrower(x):\n",
    "    keywords = ['repeat', 'BridgeWell Capital', 'BWC', 'performing', 'loan']\n",
    "    pattern = '|'.join(keywords)\n",
    "    is_repeat = re.search(pattern,x['IREIE'], flags=re.IGNORECASE)\n",
    "    if(is_repeat):\n",
    "            return '1'\n",
    "    return '0'\n",
    "merged['Repeat Borrower'] = merged[~merged['IREIE'].isnull()].apply(is_repeat_borrower, axis = 1)\n",
    "merged[['Repeat Borrower','IREIE']][:5]"
   ]
  },
  {
   "cell_type": "code",
   "execution_count": 202,
   "metadata": {
    "collapsed": false
   },
   "outputs": [],
   "source": [
    "merged.to_csv('all_lp_transactions.csv') #Need to impute values and extract information about borrower from investor experience field"
   ]
  },
  {
   "cell_type": "code",
   "execution_count": 203,
   "metadata": {
    "collapsed": false
   },
   "outputs": [
    {
     "data": {
      "text/plain": [
       "1433"
      ]
     },
     "execution_count": 203,
     "metadata": {},
     "output_type": "execute_result"
    }
   ],
   "source": [
    "len(merged)"
   ]
  },
  {
   "cell_type": "code",
   "execution_count": 204,
   "metadata": {
    "collapsed": false
   },
   "outputs": [
    {
     "data": {
      "text/plain": [
       "array(['Unnamed: 0', u'Account Exec Name', u'BorrowerCompany Name',\n",
       "       u'City', u'City_2', u'Co', u'Date', u'Down Payment', u'Email',\n",
       "       u'Est Annual HOA Dues', u'Est Annual Ins',\n",
       "       u'Est Annual Property Taxes', u'Est Close Costs and PrePaids',\n",
       "       u'Est Closing Date', u'Est Lender title Co Closing Costs',\n",
       "       u'Est Loan Maturity Date', u'Est PrePaid Days of Interest',\n",
       "       u'Est PrePaid Days of Interest_2',\n",
       "       u'Est Prepaid Home Owners Association Dues',\n",
       "       u'Est Prepaid Property Insurance', u'Estimated Monthly Ins Escrow',\n",
       "       u'Estimated Monthly Tax Escrow', u'Flood Insurance',\n",
       "       u'Interest Rate', u'Interest Rate_2', u'Investor Name', u'Lien',\n",
       "       u'Lien Loan', u'Lien Loan Amt', u'Lien Monthly Interest Payment',\n",
       "       u'Lien Monthly Interest Payment_2', u'Lien_2', u'Lien_3', u'Lien_4',\n",
       "       u'Loan Orig Fee', u'Loan Orig Fee_2',\n",
       "       u'Loan Orig including RCL Orig Fee', u'Monthly Payment Date',\n",
       "       u'Mos', u'Mos_2', u'Phone', u'Prepaid Property Insurance Choice',\n",
       "       u'Prop Add', u'RCL Amt', u'RCL Orig Fee', u'St', u'State',\n",
       "       u'Street', u'Subject Property Contract Sales Price',\n",
       "       u'Total Est Dn Pmnt', u'Total Estimated Mo Payment',\n",
       "       u'Total Loan Available at Closing', u'Total Project Cost',\n",
       "       u'Total of Loan Amt', u'Unnamed: 0.1', u'Zip',\n",
       "       u'for Days for Rehab', u'origPoints', u'origPoints_2',\n",
       "       u'prepaid insurance escrow', u'prepaid tax escrow', u'TransactionID'], dtype=object)"
      ]
     },
     "execution_count": 204,
     "metadata": {},
     "output_type": "execute_result"
    }
   ],
   "source": [
    "ltds  = pd.read_csv(open('all_ltds.csv','rU'), encoding = 'utf-8', engine = 'c', error_bad_lines = False)\n",
    "ltds.columns.values"
   ]
  },
  {
   "cell_type": "code",
   "execution_count": 205,
   "metadata": {
    "collapsed": false
   },
   "outputs": [
    {
     "data": {
      "text/plain": [
       "0    0001L\n",
       "1    0100H\n",
       "2    0101S\n",
       "3    1014P\n",
       "4    0104R\n",
       "Name: TransactionID, dtype: object"
      ]
     },
     "execution_count": 205,
     "metadata": {},
     "output_type": "execute_result"
    }
   ],
   "source": [
    "ltds['TransactionID'] = 0\n",
    "ltds['TransactionID'] = ltds['Prop Add'].str.split(' ').apply(pd.Series, 1)[0].str[:4].str.zfill(4) + ltds['Prop Add'].str.split(' ').apply(pd.Series, 1)[1].str[:1]# + ltds['Lien Loan Amt'].str.split('.').apply(pd.Series, 1)[0].str[:4].str.zfill(4)\n",
    "ltds['TransactionID'][:5]"
   ]
  },
  {
   "cell_type": "code",
   "execution_count": 206,
   "metadata": {
    "collapsed": false
   },
   "outputs": [
    {
     "data": {
      "text/plain": [
       "1634"
      ]
     },
     "execution_count": 206,
     "metadata": {},
     "output_type": "execute_result"
    }
   ],
   "source": [
    "merged = pd.merge(merged, ltds, how = 'left', on = 'TransactionID')\n",
    "#merged.to_csv('all_transactions.csv')\n",
    "len(merged)"
   ]
  },
  {
   "cell_type": "code",
   "execution_count": 207,
   "metadata": {
    "collapsed": false
   },
   "outputs": [],
   "source": [
    "merged.to_csv('all_transactions.csv')"
   ]
  },
  {
   "cell_type": "code",
   "execution_count": 208,
   "metadata": {
    "collapsed": false
   },
   "outputs": [
    {
     "data": {
      "text/plain": [
       "661"
      ]
     },
     "execution_count": 208,
     "metadata": {},
     "output_type": "execute_result"
    }
   ],
   "source": [
    "lqs  = pd.read_csv(open('all_lqs.csv','rU'), encoding = 'utf-8', engine = 'c', error_bad_lines = False)\n",
    "len(lqs)"
   ]
  },
  {
   "cell_type": "code",
   "execution_count": 209,
   "metadata": {
    "collapsed": false
   },
   "outputs": [
    {
     "data": {
      "text/plain": [
       "0    0154W\n",
       "1    0101E\n",
       "2    1027I\n",
       "3      NaN\n",
       "4    1042G\n",
       "Name: TransactionID, dtype: object"
      ]
     },
     "execution_count": 209,
     "metadata": {},
     "output_type": "execute_result"
    }
   ],
   "source": [
    "lqs['TransactionID'] = 0\n",
    "lqs['TransactionID'] = lqs[lqs['porpAddress'].notnull()]['porpAddress'].str.split(' ').apply(pd.Series, 1)[0].str[:4].str.zfill(4) + lqs['porpAddress'].str.split(' ').apply(pd.Series, 1)[1].str[:1]# + lqs['Lien Loan Amt'].str.split('.').apply(pd.Series, 1)[0].str[:4].str.zfill(4)\n",
    "lqs['TransactionID'][:5]"
   ]
  },
  {
   "cell_type": "code",
   "execution_count": 210,
   "metadata": {
    "collapsed": false
   },
   "outputs": [
    {
     "data": {
      "text/plain": [
       "0      NaN\n",
       "1      NaN\n",
       "2      NaN\n",
       "3    0104R\n",
       "4      NaN\n",
       "Name: TransactionID2, dtype: object"
      ]
     },
     "execution_count": 210,
     "metadata": {},
     "output_type": "execute_result"
    }
   ],
   "source": [
    "#lqs['TransactionID']=lqs[lqs['Text12'].notnull()]['Text12'].str.split(' ').apply(pd.Series, 1)[0].str[:4].str.zfill(4)\n",
    "lqs['TransactionID2'] = 0\n",
    "lqs['TransactionID2'] = lqs[lqs['Text12'].notnull()]['Text12'].str.split(' ').apply(pd.Series, 1)[0].str[:4].str.zfill(4) + lqs['Text12'].str.split(' ').apply(pd.Series, 1)[1].str[:1]# + lqs['Lien Loan Amt'].str.split('.').apply(pd.Series, 1)[0].str[:4].str.zfill(4)\n",
    "lqs['TransactionID2'][:5]"
   ]
  },
  {
   "cell_type": "code",
   "execution_count": 211,
   "metadata": {
    "collapsed": false
   },
   "outputs": [
    {
     "data": {
      "text/plain": [
       "656"
      ]
     },
     "execution_count": 211,
     "metadata": {},
     "output_type": "execute_result"
    }
   ],
   "source": [
    "lqs.loc[lqs['TransactionID'].isnull(), 'TransactionID'] = lqs.loc[lqs['TransactionID'].isnull(), 'TransactionID2']\n",
    "len(lqs[lqs['TransactionID'].notnull()]['TransactionID'])"
   ]
  },
  {
   "cell_type": "code",
   "execution_count": 212,
   "metadata": {
    "collapsed": false
   },
   "outputs": [
    {
     "data": {
      "text/plain": [
       "3004"
      ]
     },
     "execution_count": 212,
     "metadata": {},
     "output_type": "execute_result"
    }
   ],
   "source": [
    "merged = pd.merge(merged, lqs, how = 'left', on = 'TransactionID')\n",
    "#merged.to_csv('all_transactions.csv')\n",
    "len(merged)"
   ]
  },
  {
   "cell_type": "code",
   "execution_count": 213,
   "metadata": {
    "collapsed": false
   },
   "outputs": [],
   "source": [
    "merged.to_csv('all_transactions.csv')"
   ]
  },
  {
   "cell_type": "code",
   "execution_count": 214,
   "metadata": {
    "collapsed": false
   },
   "outputs": [],
   "source": [
    "a_lqs  = pd.read_csv(open('all_a_lqs.csv','rU'), encoding = 'utf-8', engine = 'c', error_bad_lines = False)"
   ]
  },
  {
   "cell_type": "code",
   "execution_count": 215,
   "metadata": {
    "collapsed": false
   },
   "outputs": [
    {
     "data": {
      "text/plain": [
       "775"
      ]
     },
     "execution_count": 215,
     "metadata": {},
     "output_type": "execute_result"
    }
   ],
   "source": [
    "a_lqs['TransactionID'] = 0\n",
    "a_lqs['TransactionID'] = a_lqs['Property Address'].str.split(' ').apply(pd.Series, 1)[0].str[:4].str.zfill(4) + a_lqs['Property Address'].str.split(' ').apply(pd.Series, 1)[1].str[:1]# + lqs['Lien Loan Amt'].str.split('.').apply(pd.Series, 1)[0].str[:4].str.zfill(4)\n",
    "#a_lqs['TransactionID'][:5]\n",
    "len(a_lqs)"
   ]
  },
  {
   "cell_type": "code",
   "execution_count": 216,
   "metadata": {
    "collapsed": false
   },
   "outputs": [
    {
     "data": {
      "text/plain": [
       "9818"
      ]
     },
     "execution_count": 216,
     "metadata": {},
     "output_type": "execute_result"
    }
   ],
   "source": [
    "merged = pd.merge(merged, a_lqs, how = 'left', on = 'TransactionID')\n",
    "len(merged)"
   ]
  },
  {
   "cell_type": "code",
   "execution_count": 217,
   "metadata": {
    "collapsed": false
   },
   "outputs": [],
   "source": [
    "merged.to_csv('all_transactions.csv')"
   ]
  },
  {
   "cell_type": "code",
   "execution_count": 218,
   "metadata": {
    "collapsed": false
   },
   "outputs": [
    {
     "data": {
      "text/plain": [
       "0"
      ]
     },
     "execution_count": 218,
     "metadata": {},
     "output_type": "execute_result"
    }
   ],
   "source": [
    "merged.loc[merged['Closed'].isnull(), 'Closed'] = 0\n",
    "len(merged[merged['Closed'].isnull()]['Closed'])"
   ]
  },
  {
   "cell_type": "code",
   "execution_count": 219,
   "metadata": {
    "collapsed": false
   },
   "outputs": [],
   "source": [
    "merged.to_csv('all_transactions.csv')"
   ]
  },
  {
   "cell_type": "code",
   "execution_count": 220,
   "metadata": {
    "collapsed": false
   },
   "outputs": [],
   "source": [
    "merged = merged.drop_duplicates('TransactionID', keep='first')"
   ]
  },
  {
   "cell_type": "code",
   "execution_count": 221,
   "metadata": {
    "collapsed": false
   },
   "outputs": [
    {
     "data": {
      "text/plain": [
       "1162"
      ]
     },
     "execution_count": 221,
     "metadata": {},
     "output_type": "execute_result"
    }
   ],
   "source": [
    "len(merged)"
   ]
  },
  {
   "cell_type": "code",
   "execution_count": 222,
   "metadata": {
    "collapsed": false
   },
   "outputs": [
    {
     "data": {
      "text/plain": [
       "0"
      ]
     },
     "execution_count": 222,
     "metadata": {},
     "output_type": "execute_result"
    }
   ],
   "source": [
    "merged.loc[merged['Property Address_x'].isnull(), 'Property Address_x'] = merged.loc[merged['Property Address_x'].isnull(), 'porpAddress']\n",
    "merged.loc[merged['Property Address_x'].isnull(), 'Property Address_x'] = merged.loc[merged['Property Address_x'].isnull(), 'PA']\n",
    "merged.loc[merged['Property Address_x'].isnull(), 'Property Address_x'] = merged.loc[merged['Property Address_x'].isnull(), 'Property Address_y']\n",
    "len(merged[merged['Property Address_x'].isnull()]['Property Address_x'])"
   ]
  },
  {
   "cell_type": "code",
   "execution_count": 223,
   "metadata": {
    "collapsed": false
   },
   "outputs": [
    {
     "data": {
      "text/plain": [
       "1162"
      ]
     },
     "execution_count": 223,
     "metadata": {},
     "output_type": "execute_result"
    }
   ],
   "source": [
    "merged.to_csv('all_transactions.csv')\n",
    "len(merged)"
   ]
  },
  {
   "cell_type": "code",
   "execution_count": 224,
   "metadata": {
    "collapsed": false
   },
   "outputs": [
    {
     "data": {
      "text/plain": [
       "915"
      ]
     },
     "execution_count": 224,
     "metadata": {},
     "output_type": "execute_result"
    }
   ],
   "source": [
    "len(merged[merged['cashReserves'].isnull()])"
   ]
  },
  {
   "cell_type": "code",
   "execution_count": 225,
   "metadata": {
    "collapsed": false
   },
   "outputs": [
    {
     "data": {
      "text/plain": [
       "597"
      ]
     },
     "execution_count": 225,
     "metadata": {},
     "output_type": "execute_result"
    }
   ],
   "source": [
    "merged.loc[merged['cashReserves'].isnull(), 'cashReserves'] = merged.loc[merged['cashReserves'].isnull(), 'ICR']\n",
    "len(merged[merged['cashReserves'].isnull()])"
   ]
  },
  {
   "cell_type": "code",
   "execution_count": 226,
   "metadata": {
    "collapsed": false
   },
   "outputs": [
    {
     "data": {
      "text/plain": [
       "586"
      ]
     },
     "execution_count": 226,
     "metadata": {},
     "output_type": "execute_result"
    }
   ],
   "source": [
    "merged.loc[merged['cashReserves'].isnull(), 'cashReserves'] = merged.loc[merged['cashReserves'].isnull(), 'Cash Reserves (verifiable)']\n",
    "len(merged[merged['cashReserves'].isnull()])"
   ]
  },
  {
   "cell_type": "code",
   "execution_count": 227,
   "metadata": {
    "collapsed": false
   },
   "outputs": [
    {
     "data": {
      "text/plain": [
       "602"
      ]
     },
     "execution_count": 227,
     "metadata": {},
     "output_type": "execute_result"
    }
   ],
   "source": [
    "merged.loc[merged['cashReserves'].isnull(), 'cashReserves'] = merged.loc[merged['cashReserves'].isnull(), 'Text61']\n",
    "len(merged[merged['cashReserves'].notnull()])"
   ]
  },
  {
   "cell_type": "code",
   "execution_count": 228,
   "metadata": {
    "collapsed": false
   },
   "outputs": [
    {
     "data": {
      "text/plain": [
       "757"
      ]
     },
     "execution_count": 228,
     "metadata": {},
     "output_type": "execute_result"
    }
   ],
   "source": [
    "len(merged[merged['PP'].isnull()])"
   ]
  },
  {
   "cell_type": "code",
   "execution_count": 229,
   "metadata": {
    "collapsed": false
   },
   "outputs": [
    {
     "data": {
      "text/plain": [
       "551"
      ]
     },
     "execution_count": 229,
     "metadata": {},
     "output_type": "execute_result"
    }
   ],
   "source": [
    "merged.loc[merged['PP'].isnull(), 'PP'] = merged.loc[merged['PP'].isnull(), 'Subject Property Contract Sales Price']\n",
    "len(merged[merged['PP'].isnull()])"
   ]
  },
  {
   "cell_type": "code",
   "execution_count": 230,
   "metadata": {
    "collapsed": false
   },
   "outputs": [
    {
     "data": {
      "text/plain": [
       "544"
      ]
     },
     "execution_count": 230,
     "metadata": {},
     "output_type": "execute_result"
    }
   ],
   "source": [
    "merged.loc[merged['PP'].isnull(), 'PP'] = merged.loc[merged['PP'].isnull(), 'Contract Purchase Price']\n",
    "len(merged[merged['PP'].isnull()])"
   ]
  },
  {
   "cell_type": "code",
   "execution_count": 231,
   "metadata": {
    "collapsed": false
   },
   "outputs": [
    {
     "data": {
      "text/plain": [
       "498"
      ]
     },
     "execution_count": 231,
     "metadata": {},
     "output_type": "execute_result"
    }
   ],
   "source": [
    "merged.loc[merged['PP'].isnull(), 'PP'] = merged.loc[merged['PP'].isnull(), 'purchasePrice']\n",
    "len(merged[merged['PP'].isnull()])"
   ]
  },
  {
   "cell_type": "code",
   "execution_count": 232,
   "metadata": {
    "collapsed": false
   },
   "outputs": [
    {
     "data": {
      "text/plain": [
       "492"
      ]
     },
     "execution_count": 232,
     "metadata": {},
     "output_type": "execute_result"
    }
   ],
   "source": [
    "merged.loc[merged['PP'].isnull(), 'PP'] = merged.loc[merged['PP'].isnull(), 'Text21']\n",
    "len(merged[merged['PP'].isnull()])"
   ]
  },
  {
   "cell_type": "code",
   "execution_count": 233,
   "metadata": {
    "collapsed": false
   },
   "outputs": [
    {
     "data": {
      "text/plain": [
       "689"
      ]
     },
     "execution_count": 233,
     "metadata": {},
     "output_type": "execute_result"
    }
   ],
   "source": [
    "len(merged[merged['ARV'].isnull()])"
   ]
  },
  {
   "cell_type": "code",
   "execution_count": 234,
   "metadata": {
    "collapsed": false
   },
   "outputs": [
    {
     "data": {
      "text/plain": [
       "581"
      ]
     },
     "execution_count": 234,
     "metadata": {},
     "output_type": "execute_result"
    }
   ],
   "source": [
    "merged.loc[merged['ARV'].isnull(), 'ARV'] = merged.loc[merged['ARV'].isnull(), 'estARV']\n",
    "len(merged[merged['ARV'].isnull()])"
   ]
  },
  {
   "cell_type": "code",
   "execution_count": 235,
   "metadata": {
    "collapsed": false
   },
   "outputs": [
    {
     "data": {
      "text/plain": [
       "554"
      ]
     },
     "execution_count": 235,
     "metadata": {},
     "output_type": "execute_result"
    }
   ],
   "source": [
    "merged.loc[merged['ARV'].isnull(), 'ARV'] = merged.loc[merged['ARV'].isnull(), 'Text23']\n",
    "len(merged[merged['ARV'].isnull()])"
   ]
  },
  {
   "cell_type": "code",
   "execution_count": 236,
   "metadata": {
    "collapsed": false
   },
   "outputs": [
    {
     "data": {
      "text/plain": [
       "541"
      ]
     },
     "execution_count": 236,
     "metadata": {},
     "output_type": "execute_result"
    }
   ],
   "source": [
    "merged.loc[merged['ARV'].isnull(), 'ARV'] = merged.loc[merged['ARV'].isnull(), 'After Repaired Value (ARV)']\n",
    "len(merged[merged['ARV'].isnull()])"
   ]
  },
  {
   "cell_type": "code",
   "execution_count": 237,
   "metadata": {
    "collapsed": false
   },
   "outputs": [
    {
     "data": {
      "text/html": [
       "<div style=\"max-width:1500px;overflow:auto;\">\n",
       "<table border=\"1\" class=\"dataframe\">\n",
       "  <thead>\n",
       "    <tr style=\"text-align: right;\">\n",
       "      <th></th>\n",
       "      <th>90DO</th>\n",
       "      <th>ALTA</th>\n",
       "      <th>ARV</th>\n",
       "      <th>ARVP</th>\n",
       "      <th>Application Date</th>\n",
       "      <th>B1N</th>\n",
       "      <th>Borrower</th>\n",
       "      <th>Borrower Acknowledgment</th>\n",
       "      <th>CD</th>\n",
       "      <th>CLOF</th>\n",
       "      <th>...</th>\n",
       "      <th>What is your investment strategy for the property?</th>\n",
       "      <th>What is your marital status?</th>\n",
       "      <th>What is your strategy for the investment property?</th>\n",
       "      <th>What type of investment property?</th>\n",
       "      <th>What will be the occupancy after closing?</th>\n",
       "      <th>Which of the following apply?</th>\n",
       "      <th>Who is the Buyer (or Owner, if a refi) for the property?</th>\n",
       "      <th>Who needs notification for property access?</th>\n",
       "      <th>Who were you referred to?</th>\n",
       "      <th>Years at Job</th>\n",
       "    </tr>\n",
       "  </thead>\n",
       "  <tbody>\n",
       "  </tbody>\n",
       "</table>\n",
       "<p>0 rows × 502 columns</p>\n",
       "</div>"
      ],
      "text/plain": [
       "Empty DataFrame\n",
       "Columns: [90DO, ALTA, ARV, ARVP, Application Date, B1N, Borrower, Borrower Acknowledgment, CD, CLOF, Closed, Closing Date, DPP, DSF, Date_x, ELA, GRF, IC, ICR, ICRS, IE, IP_x, IREIE, IS, IST, IT, L1R1, LAF, LBI, LP, LT, Loan Amount, Multiunit, OF, OFP, PA, PAC, PAS, PAZ, PP, PPP, PPPPM, PPR, PrintIndividualName, Property Address_x, RCL, RCLA, RD, RDN, RE, RO, RegionName, Repair Credit Line, TCCF, TIF, TOF, TP, TSF, Text1_x, TransactionID, Unnamed: 0_x, Unnamed: 6, Unnamed: 7, Unnamed: 8, Completed Properties, Years of Experience, Repeat Borrower, Unnamed: 0_y, Account Exec Name, BorrowerCompany Name, City_x, City_2, Co, Date_y, Down Payment, Email_x, Est Annual HOA Dues, Est Annual Ins, Est Annual Property Taxes, Est Close Costs and PrePaids, Est Closing Date, Est Lender title Co Closing Costs, Est Loan Maturity Date, Est PrePaid Days of Interest, Est PrePaid Days of Interest_2, Est Prepaid Home Owners Association Dues, Est Prepaid Property Insurance, Estimated Monthly Ins Escrow, Estimated Monthly Tax Escrow, Flood Insurance, Interest Rate, Interest Rate_2, Investor Name, Lien, Lien Loan, Lien Loan Amt, Lien Monthly Interest Payment, Lien Monthly Interest Payment_2, Lien_2, Lien_3, ...]\n",
       "Index: []\n",
       "\n",
       "[0 rows x 502 columns]"
      ]
     },
     "execution_count": 237,
     "metadata": {},
     "output_type": "execute_result"
    }
   ],
   "source": [
    "merged = merged[merged['Loan Amount'].notnull()]\n",
    "merged[merged['Loan Amount'].isnull()]"
   ]
  },
  {
   "cell_type": "code",
   "execution_count": 238,
   "metadata": {
    "collapsed": false
   },
   "outputs": [
    {
     "data": {
      "text/plain": [
       "694"
      ]
     },
     "execution_count": 238,
     "metadata": {},
     "output_type": "execute_result"
    }
   ],
   "source": [
    "len(merged[merged['Repeat Borrower'].isnull()])"
   ]
  },
  {
   "cell_type": "code",
   "execution_count": 239,
   "metadata": {
    "collapsed": false
   },
   "outputs": [
    {
     "data": {
      "text/plain": [
       "688"
      ]
     },
     "execution_count": 239,
     "metadata": {},
     "output_type": "execute_result"
    }
   ],
   "source": [
    "len(merged[merged['IE'].isnull()])"
   ]
  },
  {
   "cell_type": "code",
   "execution_count": 240,
   "metadata": {
    "collapsed": false
   },
   "outputs": [
    {
     "data": {
      "text/plain": [
       "579"
      ]
     },
     "execution_count": 240,
     "metadata": {},
     "output_type": "execute_result"
    }
   ],
   "source": [
    "merged.loc[merged['IE'].isnull(), 'IE'] = merged.loc[merged['IE'].isnull(), 'email']\n",
    "len(merged[merged['IE'].isnull()])"
   ]
  },
  {
   "cell_type": "code",
   "execution_count": 241,
   "metadata": {
    "collapsed": false
   },
   "outputs": [
    {
     "data": {
      "text/plain": [
       "436"
      ]
     },
     "execution_count": 241,
     "metadata": {},
     "output_type": "execute_result"
    }
   ],
   "source": [
    "merged.loc[merged['IE'].isnull(), 'IE'] = merged.loc[merged['IE'].isnull(), 'Email_x']\n",
    "len(merged[merged['IE'].isnull()])"
   ]
  },
  {
   "cell_type": "code",
   "execution_count": 242,
   "metadata": {
    "collapsed": false
   },
   "outputs": [
    {
     "data": {
      "text/plain": [
       "427"
      ]
     },
     "execution_count": 242,
     "metadata": {},
     "output_type": "execute_result"
    }
   ],
   "source": [
    "merged.loc[merged['IE'].isnull(), 'IE'] = merged.loc[merged['IE'].isnull(), 'Email_y']\n",
    "len(merged[merged['IE'].isnull()])"
   ]
  },
  {
   "cell_type": "code",
   "execution_count": 243,
   "metadata": {
    "collapsed": false
   },
   "outputs": [
    {
     "data": {
      "text/plain": [
       "426"
      ]
     },
     "execution_count": 243,
     "metadata": {},
     "output_type": "execute_result"
    }
   ],
   "source": [
    "merged.loc[merged['IE'].isnull(), 'IE'] = merged.loc[merged['IE'].isnull(), 'Email Address']\n",
    "len(merged[merged['IE'].isnull()])"
   ]
  },
  {
   "cell_type": "code",
   "execution_count": 244,
   "metadata": {
    "collapsed": false
   },
   "outputs": [
    {
     "data": {
      "text/plain": [
       "426"
      ]
     },
     "execution_count": 244,
     "metadata": {},
     "output_type": "execute_result"
    }
   ],
   "source": [
    "merged.loc[merged['IE'].isnull(), 'IE'] = merged.loc[merged['IE'].isnull(), 'REemail']\n",
    "len(merged[merged['IE'].isnull()])"
   ]
  },
  {
   "cell_type": "code",
   "execution_count": 245,
   "metadata": {
    "collapsed": false
   },
   "outputs": [
    {
     "data": {
      "text/plain": [
       "426"
      ]
     },
     "execution_count": 245,
     "metadata": {},
     "output_type": "execute_result"
    }
   ],
   "source": [
    "merged.loc[merged['IE'].isnull(), 'IE'] = merged.loc[merged['IE'].isnull(), 'RE Email']\n",
    "len(merged[merged['IE'].isnull()])"
   ]
  },
  {
   "cell_type": "code",
   "execution_count": 246,
   "metadata": {
    "collapsed": false
   },
   "outputs": [],
   "source": [
    "def is_repeat_client(x):\n",
    "    is_repeat = '0'\n",
    "    if '@' in str(x['temp']):\n",
    "        is_repeat = '1'\n",
    "    \n",
    "    return is_repeat\n",
    "\n",
    "merged['temp'] = ''\n",
    "merged['temp'] = merged[merged['IE'].notnull() & merged.duplicated(['IE'])]['IE']\n",
    "merged['Repeat Client'] = merged.apply(is_repeat_client, axis = 1)\n"
   ]
  },
  {
   "cell_type": "code",
   "execution_count": 247,
   "metadata": {
    "collapsed": false
   },
   "outputs": [
    {
     "data": {
      "text/plain": [
       "0    0\n",
       "1    0\n",
       "2    0\n",
       "3    0\n",
       "4    0\n",
       "Name: Repeat Client, dtype: object"
      ]
     },
     "execution_count": 247,
     "metadata": {},
     "output_type": "execute_result"
    }
   ],
   "source": [
    "merged['Repeat Client'][:5]"
   ]
  },
  {
   "cell_type": "code",
   "execution_count": 248,
   "metadata": {
    "collapsed": false
   },
   "outputs": [
    {
     "data": {
      "text/plain": [
       "694"
      ]
     },
     "execution_count": 248,
     "metadata": {},
     "output_type": "execute_result"
    }
   ],
   "source": [
    "len(merged[merged['Repeat Borrower'].isnull()])"
   ]
  },
  {
   "cell_type": "code",
   "execution_count": 249,
   "metadata": {
    "collapsed": false
   },
   "outputs": [
    {
     "data": {
      "text/plain": [
       "0"
      ]
     },
     "execution_count": 249,
     "metadata": {},
     "output_type": "execute_result"
    }
   ],
   "source": [
    "merged.loc[merged['Repeat Borrower'].isnull(), 'Repeat Borrower'] = merged.loc[merged['Repeat Borrower'].isnull(), 'Repeat Client']\n",
    "len(merged[merged['Repeat Borrower'].isnull()])"
   ]
  },
  {
   "cell_type": "code",
   "execution_count": 250,
   "metadata": {
    "collapsed": false
   },
   "outputs": [
    {
     "data": {
      "text/plain": [
       "694"
      ]
     },
     "execution_count": 250,
     "metadata": {},
     "output_type": "execute_result"
    }
   ],
   "source": [
    "len(merged[merged['Years of Experience'].isnull()])"
   ]
  },
  {
   "cell_type": "code",
   "execution_count": 251,
   "metadata": {
    "collapsed": false
   },
   "outputs": [
    {
     "data": {
      "text/plain": [
       "665"
      ]
     },
     "execution_count": 251,
     "metadata": {},
     "output_type": "execute_result"
    }
   ],
   "source": [
    "merged.loc[merged['Years of Experience'].isnull(), 'Years of Experience'] = merged.loc[merged['Years of Experience'].isnull(), 'Text54']\n",
    "len(merged[merged['Years of Experience'].isnull()])"
   ]
  },
  {
   "cell_type": "code",
   "execution_count": 252,
   "metadata": {
    "collapsed": false
   },
   "outputs": [
    {
     "data": {
      "text/plain": [
       "565"
      ]
     },
     "execution_count": 252,
     "metadata": {},
     "output_type": "execute_result"
    }
   ],
   "source": [
    "merged.loc[merged['Years of Experience'].isnull(), 'Years of Experience'] = merged.loc[merged['Years of Experience'].isnull(), 'yearsOfExp']\n",
    "len(merged[merged['Years of Experience'].isnull()])"
   ]
  },
  {
   "cell_type": "code",
   "execution_count": 253,
   "metadata": {
    "collapsed": false
   },
   "outputs": [
    {
     "data": {
      "text/plain": [
       "551"
      ]
     },
     "execution_count": 253,
     "metadata": {},
     "output_type": "execute_result"
    }
   ],
   "source": [
    "merged.loc[merged['Years of Experience'].isnull(), 'Years of Experience'] = merged.loc[merged['Years of Experience'].isnull(), 'How many years of experience?']\n",
    "len(merged[merged['Years of Experience'].isnull()])"
   ]
  },
  {
   "cell_type": "code",
   "execution_count": 254,
   "metadata": {
    "collapsed": false
   },
   "outputs": [
    {
     "data": {
      "text/plain": [
       "694"
      ]
     },
     "execution_count": 254,
     "metadata": {},
     "output_type": "execute_result"
    }
   ],
   "source": [
    "len(merged[merged['Completed Properties'].isnull()])"
   ]
  },
  {
   "cell_type": "code",
   "execution_count": 255,
   "metadata": {
    "collapsed": false
   },
   "outputs": [
    {
     "data": {
      "text/plain": [
       "595"
      ]
     },
     "execution_count": 255,
     "metadata": {},
     "output_type": "execute_result"
    }
   ],
   "source": [
    "merged.loc[merged['Completed Properties'].isnull(), 'Completed Properties'] = merged.loc[merged['Completed Properties'].isnull(), 'numInvProps']\n",
    "len(merged[merged['Completed Properties'].isnull()])"
   ]
  },
  {
   "cell_type": "code",
   "execution_count": 256,
   "metadata": {
    "collapsed": false
   },
   "outputs": [],
   "source": [
    "merged['Text57'] = merged['Text57'].astype(float).fillna(0.0)\n",
    "merged['Text58'] = merged[merged['Text58'].notnull() & merged['Text58'].str.isdigit()]['Text58'].astype(float).fillna(0.0)"
   ]
  },
  {
   "cell_type": "code",
   "execution_count": 257,
   "metadata": {
    "collapsed": false
   },
   "outputs": [],
   "source": [
    "merged['Temp2'] = merged['Text57'] + merged['Text58']"
   ]
  },
  {
   "cell_type": "code",
   "execution_count": 258,
   "metadata": {
    "collapsed": false
   },
   "outputs": [
    {
     "data": {
      "text/plain": [
       "586"
      ]
     },
     "execution_count": 258,
     "metadata": {},
     "output_type": "execute_result"
    }
   ],
   "source": [
    "merged.loc[merged['Completed Properties'].isnull(), 'Completed Properties'] = merged.loc[merged['Completed Properties'].isnull(), 'Temp2']\n",
    "len(merged[merged['Completed Properties'].isnull()])"
   ]
  },
  {
   "cell_type": "code",
   "execution_count": 259,
   "metadata": {
    "collapsed": false
   },
   "outputs": [
    {
     "data": {
      "text/plain": [
       "570"
      ]
     },
     "execution_count": 259,
     "metadata": {},
     "output_type": "execute_result"
    }
   ],
   "source": [
    "merged.loc[merged['Completed Properties'].isnull(), 'Completed Properties'] = merged.loc[merged['Completed Properties'].isnull(), 'Properties Completed?']\n",
    "len(merged[merged['Completed Properties'].isnull()])"
   ]
  },
  {
   "cell_type": "code",
   "execution_count": 259,
   "metadata": {
    "collapsed": false
   },
   "outputs": [],
   "source": []
  },
  {
   "cell_type": "code",
   "execution_count": 260,
   "metadata": {
    "collapsed": false
   },
   "outputs": [
    {
     "data": {
      "text/plain": [
       "232"
      ]
     },
     "execution_count": 260,
     "metadata": {},
     "output_type": "execute_result"
    }
   ],
   "source": [
    "len(merged[merged['Repair Credit Line'].isnull()])"
   ]
  },
  {
   "cell_type": "code",
   "execution_count": 261,
   "metadata": {
    "collapsed": false
   },
   "outputs": [
    {
     "data": {
      "text/plain": [
       "228"
      ]
     },
     "execution_count": 261,
     "metadata": {},
     "output_type": "execute_result"
    }
   ],
   "source": [
    "merged.loc[merged['Repair Credit Line'].isnull(), 'Repair Credit Line'] = merged.loc[merged['Repair Credit Line'].isnull(), 'RCL Amt']\n",
    "len(merged[merged['Repair Credit Line'].isnull()])"
   ]
  },
  {
   "cell_type": "code",
   "execution_count": 262,
   "metadata": {
    "collapsed": false
   },
   "outputs": [
    {
     "data": {
      "text/plain": [
       "215"
      ]
     },
     "execution_count": 262,
     "metadata": {},
     "output_type": "execute_result"
    }
   ],
   "source": [
    "merged.loc[merged['Repair Credit Line'].isnull(), 'Repair Credit Line'] = merged.loc[merged['Repair Credit Line'].isnull(), 'RE']\n",
    "len(merged[merged['Repair Credit Line'].isnull()])"
   ]
  },
  {
   "cell_type": "code",
   "execution_count": 263,
   "metadata": {
    "collapsed": false
   },
   "outputs": [
    {
     "data": {
      "text/plain": [
       "212"
      ]
     },
     "execution_count": 263,
     "metadata": {},
     "output_type": "execute_result"
    }
   ],
   "source": [
    "merged.loc[merged['Repair Credit Line'].isnull(), 'Repair Credit Line'] = merged.loc[merged['Repair Credit Line'].isnull(), 'estRehab']\n",
    "len(merged[merged['Repair Credit Line'].isnull()])"
   ]
  },
  {
   "cell_type": "code",
   "execution_count": 264,
   "metadata": {
    "collapsed": false
   },
   "outputs": [
    {
     "data": {
      "text/plain": [
       "212"
      ]
     },
     "execution_count": 264,
     "metadata": {},
     "output_type": "execute_result"
    }
   ],
   "source": [
    "merged.loc[merged['Repair Credit Line'].isnull(), 'Repair Credit Line'] = merged.loc[merged['Repair Credit Line'].isnull(), 'Text22']\n",
    "len(merged[merged['Repair Credit Line'].isnull()])"
   ]
  },
  {
   "cell_type": "code",
   "execution_count": 265,
   "metadata": {
    "collapsed": false
   },
   "outputs": [
    {
     "data": {
      "text/plain": [
       "209"
      ]
     },
     "execution_count": 265,
     "metadata": {},
     "output_type": "execute_result"
    }
   ],
   "source": [
    "merged.loc[merged['Repair Credit Line'].isnull(), 'Repair Credit Line'] = merged.loc[merged['Repair Credit Line'].isnull(), 'Rehab']\n",
    "len(merged[merged['Repair Credit Line'].isnull()])"
   ]
  },
  {
   "cell_type": "code",
   "execution_count": 266,
   "metadata": {
    "collapsed": false
   },
   "outputs": [
    {
     "data": {
      "text/plain": [
       "161"
      ]
     },
     "execution_count": 266,
     "metadata": {},
     "output_type": "execute_result"
    }
   ],
   "source": [
    "len(merged[merged['Closing Date'].isnull()])"
   ]
  },
  {
   "cell_type": "code",
   "execution_count": 267,
   "metadata": {
    "collapsed": false
   },
   "outputs": [
    {
     "data": {
      "text/plain": [
       "83"
      ]
     },
     "execution_count": 267,
     "metadata": {},
     "output_type": "execute_result"
    }
   ],
   "source": [
    "merged.loc[merged['Closing Date'].isnull(), 'Closing Date'] = merged.loc[merged['Closing Date'].isnull(), 'CD']\n",
    "len(merged[merged['Closing Date'].isnull()])"
   ]
  },
  {
   "cell_type": "code",
   "execution_count": 268,
   "metadata": {
    "collapsed": false
   },
   "outputs": [
    {
     "data": {
      "text/plain": [
       "69"
      ]
     },
     "execution_count": 268,
     "metadata": {},
     "output_type": "execute_result"
    }
   ],
   "source": [
    "merged.loc[merged['Closing Date'].isnull(), 'Closing Date'] = merged.loc[merged['Closing Date'].isnull(), 'Est Closing Date']\n",
    "len(merged[merged['Closing Date'].isnull()])"
   ]
  },
  {
   "cell_type": "code",
   "execution_count": 269,
   "metadata": {
    "collapsed": false
   },
   "outputs": [
    {
     "data": {
      "text/plain": [
       "67"
      ]
     },
     "execution_count": 269,
     "metadata": {},
     "output_type": "execute_result"
    }
   ],
   "source": [
    "merged.loc[merged['Closing Date'].isnull(), 'Closing Date'] = merged.loc[merged['Closing Date'].isnull(), 'estClosingDate']\n",
    "len(merged[merged['Closing Date'].isnull()])"
   ]
  },
  {
   "cell_type": "code",
   "execution_count": 270,
   "metadata": {
    "collapsed": false
   },
   "outputs": [
    {
     "data": {
      "text/plain": [
       "65"
      ]
     },
     "execution_count": 270,
     "metadata": {},
     "output_type": "execute_result"
    }
   ],
   "source": [
    "merged.loc[merged['Closing Date'].isnull(), 'Closing Date'] = merged.loc[merged['Closing Date'].isnull(), 'Estimated closing date?']\n",
    "len(merged[merged['Closing Date'].isnull()])"
   ]
  },
  {
   "cell_type": "code",
   "execution_count": 271,
   "metadata": {
    "collapsed": false
   },
   "outputs": [
    {
     "data": {
      "text/plain": [
       "64"
      ]
     },
     "execution_count": 271,
     "metadata": {},
     "output_type": "execute_result"
    }
   ],
   "source": [
    "merged.loc[merged['Closing Date'].isnull(), 'Closing Date'] = merged.loc[merged['Closing Date'].isnull(), 'Date_x']\n",
    "len(merged[merged['Closing Date'].isnull()])"
   ]
  },
  {
   "cell_type": "code",
   "execution_count": 272,
   "metadata": {
    "collapsed": false
   },
   "outputs": [
    {
     "data": {
      "text/plain": [
       "64"
      ]
     },
     "execution_count": 272,
     "metadata": {},
     "output_type": "execute_result"
    }
   ],
   "source": [
    "merged.loc[merged['Closing Date'].isnull(), 'Closing Date'] = merged.loc[merged['Closing Date'].isnull(), 'Date_y']\n",
    "len(merged[merged['Closing Date'].isnull()])"
   ]
  },
  {
   "cell_type": "code",
   "execution_count": 273,
   "metadata": {
    "collapsed": false
   },
   "outputs": [
    {
     "data": {
      "text/plain": [
       "7"
      ]
     },
     "execution_count": 273,
     "metadata": {},
     "output_type": "execute_result"
    }
   ],
   "source": [
    "merged.loc[merged['Closing Date'].isnull(), 'Closing Date'] = merged.loc[merged['Closing Date'].isnull(), 'DateSigned1']\n",
    "merged.loc[merged['Closing Date'].isnull(), 'Closing Date'] = merged.loc[merged['Closing Date'].isnull(), 'DateSigned2']\n",
    "merged.loc[merged['Closing Date'].isnull(), 'Closing Date'] = merged.loc[merged['Closing Date'].isnull(), 'TodaysDate']\n",
    "merged.loc[merged['Closing Date'].isnull(), 'Closing Date'] = merged.loc[merged['Closing Date'].isnull(), 'datePropPurchased']\n",
    "merged.loc[merged['Closing Date'].isnull(), 'Closing Date'] = merged.loc[merged['Closing Date'].isnull(), 'Date']\n",
    "merged.loc[merged['Closing Date'].isnull(), 'Closing Date'] = merged.loc[merged['Closing Date'].isnull(), 'Application Date']\n",
    "merged.loc[merged['Closing Date'].isnull(), 'Closing Date'] = merged.loc[merged['Closing Date'].isnull(), 'Application Date']\n",
    "merged['Closing Date'].replace('TBD', '')\n",
    "merged['Closing Date'].replace('ASAP', '')\n",
    "#merged[merged['Closing Date'].notnull() and merged['Closing Date'].str.contains('TBD')] = ''\n",
    "len(merged[merged['Closing Date'].isnull()])"
   ]
  },
  {
   "cell_type": "code",
   "execution_count": 274,
   "metadata": {
    "collapsed": false
   },
   "outputs": [
    {
     "data": {
      "text/plain": [
       "1160"
      ]
     },
     "execution_count": 274,
     "metadata": {},
     "output_type": "execute_result"
    }
   ],
   "source": [
    "property_features = pd.read_csv(open('property_features.csv','rU'), encoding = 'utf-8', engine = 'c', error_bad_lines = False)\n",
    "len(property_features)"
   ]
  },
  {
   "cell_type": "code",
   "execution_count": 275,
   "metadata": {
    "collapsed": false
   },
   "outputs": [
    {
     "data": {
      "text/plain": [
       "1161"
      ]
     },
     "execution_count": 275,
     "metadata": {},
     "output_type": "execute_result"
    }
   ],
   "source": [
    "merged = pd.merge(merged, property_features, how = 'left', on = 'TransactionID')\n",
    "len(merged)"
   ]
  },
  {
   "cell_type": "code",
   "execution_count": 276,
   "metadata": {
    "collapsed": false
   },
   "outputs": [
    {
     "data": {
      "text/plain": [
       "1160"
      ]
     },
     "execution_count": 276,
     "metadata": {},
     "output_type": "execute_result"
    }
   ],
   "source": [
    "purchase_price = pd.read_csv(open('all_transactions_PP.csv','rU'), encoding = 'utf-8', engine = 'c', error_bad_lines = False)\n",
    "purchase_price = purchase_price[['TransactionID', 'Purchase Price']]\n",
    "len(purchase_price)"
   ]
  },
  {
   "cell_type": "code",
   "execution_count": 277,
   "metadata": {
    "collapsed": false
   },
   "outputs": [],
   "source": [
    "purchase_price['TransactionID'] = purchase_price['TransactionID'].str.zfill(5)"
   ]
  },
  {
   "cell_type": "code",
   "execution_count": 278,
   "metadata": {
    "collapsed": false
   },
   "outputs": [
    {
     "data": {
      "text/plain": [
       "1161"
      ]
     },
     "execution_count": 278,
     "metadata": {},
     "output_type": "execute_result"
    }
   ],
   "source": [
    "merged= pd.merge(merged, purchase_price, how = 'left', on = 'TransactionID')\n",
    "len(merged)"
   ]
  },
  {
   "cell_type": "code",
   "execution_count": 279,
   "metadata": {
    "collapsed": false
   },
   "outputs": [
    {
     "data": {
      "text/html": [
       "<div style=\"max-width:1500px;overflow:auto;\">\n",
       "<table border=\"1\" class=\"dataframe\">\n",
       "  <thead>\n",
       "    <tr style=\"text-align: right;\">\n",
       "      <th></th>\n",
       "      <th>PP</th>\n",
       "      <th>TransactionID</th>\n",
       "    </tr>\n",
       "  </thead>\n",
       "  <tbody>\n",
       "    <tr>\n",
       "      <th>29</th>\n",
       "      <td>NaN</td>\n",
       "      <td>5507S</td>\n",
       "    </tr>\n",
       "    <tr>\n",
       "      <th>54</th>\n",
       "      <td>NaN</td>\n",
       "      <td>1210N</td>\n",
       "    </tr>\n",
       "    <tr>\n",
       "      <th>319</th>\n",
       "      <td>NaN</td>\n",
       "      <td>4827C</td>\n",
       "    </tr>\n",
       "    <tr>\n",
       "      <th>422</th>\n",
       "      <td>NaN</td>\n",
       "      <td>6910C</td>\n",
       "    </tr>\n",
       "    <tr>\n",
       "      <th>442</th>\n",
       "      <td>NaN</td>\n",
       "      <td>6082S</td>\n",
       "    </tr>\n",
       "    <tr>\n",
       "      <th>649</th>\n",
       "      <td>NaN</td>\n",
       "      <td>04452</td>\n",
       "    </tr>\n",
       "    <tr>\n",
       "      <th>791</th>\n",
       "      <td>NaN</td>\n",
       "      <td>4365N</td>\n",
       "    </tr>\n",
       "    <tr>\n",
       "      <th>985</th>\n",
       "      <td>NaN</td>\n",
       "      <td>BlanL</td>\n",
       "    </tr>\n",
       "  </tbody>\n",
       "</table>\n",
       "</div>"
      ],
      "text/plain": [
       "      PP TransactionID\n",
       "29   NaN         5507S\n",
       "54   NaN         1210N\n",
       "319  NaN         4827C\n",
       "422  NaN         6910C\n",
       "442  NaN         6082S\n",
       "649  NaN         04452\n",
       "791  NaN         4365N\n",
       "985  NaN         BlanL"
      ]
     },
     "execution_count": 279,
     "metadata": {},
     "output_type": "execute_result"
    }
   ],
   "source": [
    "merged.loc[merged['PP'].isnull(), 'PP'] = merged.loc[merged['Purchase Price'].notnull(), 'Purchase Price']\n",
    "merged[merged['PP'].isnull()][['PP', 'TransactionID']]"
   ]
  },
  {
   "cell_type": "code",
   "execution_count": 280,
   "metadata": {
    "collapsed": false
   },
   "outputs": [],
   "source": [
    "#len(merged[merged['approxHeatedSf'].notnull()]['approxHeatedSf'])"
   ]
  },
  {
   "cell_type": "code",
   "execution_count": 281,
   "metadata": {
    "collapsed": false
   },
   "outputs": [],
   "source": [
    "#merged.loc[merged['approxHeatedSf'].isnull(), 'approxHeatedSf'] = merged.loc[merged['approxHeatedSf'].isnull(), 'Text19']\n",
    "#merged.loc[merged['approxHeatedSf'].isnull(), 'approxHeatedSf'] = merged.loc[merged['approxHeatedSf'].isnull(), 'Approx. Heated Sf']\n"
   ]
  },
  {
   "cell_type": "code",
   "execution_count": 282,
   "metadata": {
    "collapsed": false
   },
   "outputs": [],
   "source": [
    "#len(merged[merged['approxHeatedSf'].notnull()]['approxHeatedSf'])"
   ]
  },
  {
   "cell_type": "code",
   "execution_count": 283,
   "metadata": {
    "collapsed": false
   },
   "outputs": [],
   "source": [
    "#len(merged[merged['beds'].notnull()]['beds'])"
   ]
  },
  {
   "cell_type": "code",
   "execution_count": 284,
   "metadata": {
    "collapsed": false
   },
   "outputs": [],
   "source": [
    "#len(merged[merged['bath'].notnull()]['bath'])"
   ]
  },
  {
   "cell_type": "code",
   "execution_count": 285,
   "metadata": {
    "collapsed": false
   },
   "outputs": [],
   "source": [
    "#merged.loc[merged['beds'].isnull(), 'beds'] = merged.loc[merged['beds'].isnull(), 'Text17']\n",
    "#merged.loc[merged['beds'].isnull(), 'beds'] = merged.loc[merged['beds'].isnull(), 'Beds']\n",
    "\n",
    "#merged.loc[merged['bath'].isnull(), 'bath'] = merged.loc[merged['bath'].isnull(), 'Text18']\n",
    "#merged.loc[merged['bath'].isnull(), 'bath'] = merged.loc[merged['bath'].isnull(), 'Baths']\n"
   ]
  },
  {
   "cell_type": "code",
   "execution_count": 286,
   "metadata": {
    "collapsed": false
   },
   "outputs": [],
   "source": [
    "#len(merged[merged['beds'].notnull()]['beds'])"
   ]
  },
  {
   "cell_type": "code",
   "execution_count": 287,
   "metadata": {
    "collapsed": false
   },
   "outputs": [],
   "source": [
    "#len(merged[merged['bath'].notnull()]['bath'])"
   ]
  },
  {
   "cell_type": "code",
   "execution_count": 288,
   "metadata": {
    "collapsed": false
   },
   "outputs": [
    {
     "data": {
      "text/plain": [
       "1156    2015-11\n",
       "1157    2016-12\n",
       "1158    2016-02\n",
       "1159    2016-02\n",
       "1160    2016-02\n",
       "Name: Closing Date, dtype: object"
      ]
     },
     "execution_count": 288,
     "metadata": {},
     "output_type": "execute_result"
    }
   ],
   "source": [
    "import datetime\n",
    "\n",
    "def parse_date(x):  \n",
    "    try:\n",
    "        x['Closing Date'] = datetime.datetime.strptime(x['Closing Date'], \"%m/%d/%y\").strftime(\"%Y-%m\")\n",
    "        return x['Closing Date'] \n",
    "    except:\n",
    "        try:\n",
    "            x['Closing Date'] = datetime.datetime.strptime(x['Closing Date'], \"%m/%d/%Y\").strftime(\"%Y-%m\")\n",
    "            return x['Closing Date']\n",
    "        except:\n",
    "            try:\n",
    "                x['Closing Date'] = datetime.datetime.strptime(x['Closing Date'], \"%d-%b\").strftime(str(datetime.datetime.now().year)+\"-%m\")\n",
    "                return x['Closing Date']\n",
    "            except:\n",
    "                try:\n",
    "                    x['Closing Date'] = datetime.datetime.strptime(x['Closing Date'], \"%Y-%m\").strftime(\"%Y-%m\")\n",
    "                    return x['Closing Date']\n",
    "                except:\n",
    "                    return np.nan\n",
    "    \n",
    "\n",
    "merged['Closing Date'] = merged[~merged['Closing Date'].isnull()].apply(parse_date, axis = 1)\n",
    "merged['Closing Date'][-5:]"
   ]
  },
  {
   "cell_type": "code",
   "execution_count": 289,
   "metadata": {
    "collapsed": false
   },
   "outputs": [
    {
     "data": {
      "text/plain": [
       "25"
      ]
     },
     "execution_count": 289,
     "metadata": {},
     "output_type": "execute_result"
    }
   ],
   "source": [
    "len(merged[merged['Closing Date'].isnull()])"
   ]
  },
  {
   "cell_type": "code",
   "execution_count": 290,
   "metadata": {
    "collapsed": false
   },
   "outputs": [
    {
     "data": {
      "text/plain": [
       "9"
      ]
     },
     "execution_count": 290,
     "metadata": {},
     "output_type": "execute_result"
    }
   ],
   "source": [
    "merged.loc[merged['Closing Date'].isnull(), 'Closing Date'] = merged.loc[merged['Closing Date'].isnull(), 'Application Date']\n",
    "len(merged[merged['Closing Date'].isnull()])"
   ]
  },
  {
   "cell_type": "code",
   "execution_count": 291,
   "metadata": {
    "collapsed": false
   },
   "outputs": [
    {
     "data": {
      "text/plain": [
       "1156    2015-11\n",
       "1157    2016-12\n",
       "1158    2016-02\n",
       "1159    2016-02\n",
       "1160    2016-02\n",
       "Name: Closing Date, dtype: object"
      ]
     },
     "execution_count": 291,
     "metadata": {},
     "output_type": "execute_result"
    }
   ],
   "source": [
    "merged['Closing Date'] = merged[~merged['Closing Date'].isnull()].apply(parse_date, axis = 1)\n",
    "merged['Closing Date'][-5:]"
   ]
  },
  {
   "cell_type": "code",
   "execution_count": 292,
   "metadata": {
    "collapsed": false
   },
   "outputs": [
    {
     "data": {
      "text/plain": [
       "9"
      ]
     },
     "execution_count": 292,
     "metadata": {},
     "output_type": "execute_result"
    }
   ],
   "source": [
    "len(merged[merged['Closing Date'].isnull()])"
   ]
  },
  {
   "cell_type": "code",
   "execution_count": 293,
   "metadata": {
    "collapsed": false
   },
   "outputs": [],
   "source": [
    "merged.loc[merged['Closing Date'].isnull(), 'Closing Date'] = '2016-1'\n",
    "merged.loc[merged['RegionName'].isnull(), 'RegionName'] = '32805'"
   ]
  },
  {
   "cell_type": "code",
   "execution_count": 294,
   "metadata": {
    "collapsed": false
   },
   "outputs": [
    {
     "data": {
      "text/plain": [
       "0"
      ]
     },
     "execution_count": 294,
     "metadata": {},
     "output_type": "execute_result"
    }
   ],
   "source": [
    "len(merged[merged['Closing Date'].isnull()])"
   ]
  },
  {
   "cell_type": "code",
   "execution_count": 295,
   "metadata": {
    "collapsed": false
   },
   "outputs": [
    {
     "data": {
      "text/plain": [
       "0    2011-09\n",
       "1    2011-09\n",
       "2    2011-09\n",
       "3    2011-09\n",
       "4    2011-09\n",
       "Name: Closing Date, dtype: object"
      ]
     },
     "execution_count": 295,
     "metadata": {},
     "output_type": "execute_result"
    }
   ],
   "source": [
    "merged['Closing Date'][:5]"
   ]
  },
  {
   "cell_type": "code",
   "execution_count": 296,
   "metadata": {
    "collapsed": false
   },
   "outputs": [
    {
     "data": {
      "text/html": [
       "<div style=\"max-width:1500px;overflow:auto;\">\n",
       "<table border=\"1\" class=\"dataframe\">\n",
       "  <thead>\n",
       "    <tr style=\"text-align: right;\">\n",
       "      <th></th>\n",
       "      <th>Quarter</th>\n",
       "      <th>Closing Date</th>\n",
       "    </tr>\n",
       "  </thead>\n",
       "  <tbody>\n",
       "    <tr>\n",
       "      <th>0</th>\n",
       "      <td>3</td>\n",
       "      <td>2011-09</td>\n",
       "    </tr>\n",
       "    <tr>\n",
       "      <th>1</th>\n",
       "      <td>3</td>\n",
       "      <td>2011-09</td>\n",
       "    </tr>\n",
       "    <tr>\n",
       "      <th>2</th>\n",
       "      <td>3</td>\n",
       "      <td>2011-09</td>\n",
       "    </tr>\n",
       "    <tr>\n",
       "      <th>3</th>\n",
       "      <td>3</td>\n",
       "      <td>2011-09</td>\n",
       "    </tr>\n",
       "    <tr>\n",
       "      <th>4</th>\n",
       "      <td>3</td>\n",
       "      <td>2011-09</td>\n",
       "    </tr>\n",
       "    <tr>\n",
       "      <th>5</th>\n",
       "      <td>3</td>\n",
       "      <td>2011-09</td>\n",
       "    </tr>\n",
       "    <tr>\n",
       "      <th>6</th>\n",
       "      <td>3</td>\n",
       "      <td>2011-09</td>\n",
       "    </tr>\n",
       "    <tr>\n",
       "      <th>7</th>\n",
       "      <td>3</td>\n",
       "      <td>2011-09</td>\n",
       "    </tr>\n",
       "    <tr>\n",
       "      <th>8</th>\n",
       "      <td>3</td>\n",
       "      <td>2011-09</td>\n",
       "    </tr>\n",
       "    <tr>\n",
       "      <th>9</th>\n",
       "      <td>4</td>\n",
       "      <td>2011-10</td>\n",
       "    </tr>\n",
       "  </tbody>\n",
       "</table>\n",
       "</div>"
      ],
      "text/plain": [
       "   Quarter Closing Date\n",
       "0        3      2011-09\n",
       "1        3      2011-09\n",
       "2        3      2011-09\n",
       "3        3      2011-09\n",
       "4        3      2011-09\n",
       "5        3      2011-09\n",
       "6        3      2011-09\n",
       "7        3      2011-09\n",
       "8        3      2011-09\n",
       "9        4      2011-10"
      ]
     },
     "execution_count": 296,
     "metadata": {},
     "output_type": "execute_result"
    }
   ],
   "source": [
    "def find_quarter(x):\n",
    "    month = datetime.datetime.strptime(x['Closing Date'], \"%Y-%m\").strftime(\"%m\")\n",
    "    return (math.ceil(int(month)/3.0))\n",
    "\n",
    "merged['Quarter'] = merged[merged['Closing Date'].notnull()].apply(find_quarter, axis = 1)\n",
    "merged[['Quarter', 'Closing Date']][:10]"
   ]
  },
  {
   "cell_type": "code",
   "execution_count": 297,
   "metadata": {
    "collapsed": false
   },
   "outputs": [
    {
     "data": {
      "text/plain": [
       "0"
      ]
     },
     "execution_count": 297,
     "metadata": {},
     "output_type": "execute_result"
    }
   ],
   "source": [
    "len(merged[merged['RegionName'].isnull()])"
   ]
  },
  {
   "cell_type": "code",
   "execution_count": 298,
   "metadata": {
    "collapsed": false
   },
   "outputs": [],
   "source": [
    "merged.to_csv('all_transactions.csv')"
   ]
  },
  {
   "cell_type": "code",
   "execution_count": 299,
   "metadata": {
    "collapsed": false
   },
   "outputs": [
    {
     "data": {
      "text/plain": [
       "511"
      ]
     },
     "execution_count": 299,
     "metadata": {},
     "output_type": "execute_result"
    }
   ],
   "source": [
    "len(merged.columns)"
   ]
  },
  {
   "cell_type": "code",
   "execution_count": 300,
   "metadata": {
    "collapsed": false
   },
   "outputs": [],
   "source": [
    "#merged = merged.dropna(thresh=len(merged) - 650, axis='columns')\n",
    "#len(merged.columns)"
   ]
  },
  {
   "cell_type": "code",
   "execution_count": 301,
   "metadata": {
    "collapsed": false
   },
   "outputs": [],
   "source": [
    "#merged.to_csv('all_transactions.csv')"
   ]
  },
  {
   "cell_type": "code",
   "execution_count": 302,
   "metadata": {
    "collapsed": false
   },
   "outputs": [
    {
     "data": {
      "text/html": [
       "<div style=\"max-width:1500px;overflow:auto;\">\n",
       "<table border=\"1\" class=\"dataframe\">\n",
       "  <thead>\n",
       "    <tr style=\"text-align: right;\">\n",
       "      <th></th>\n",
       "      <th>RegionName</th>\n",
       "      <th>1996-04</th>\n",
       "      <th>1996-05</th>\n",
       "      <th>1996-06</th>\n",
       "      <th>1996-07</th>\n",
       "      <th>1996-08</th>\n",
       "      <th>1996-09</th>\n",
       "      <th>1996-10</th>\n",
       "      <th>1996-11</th>\n",
       "      <th>1996-12</th>\n",
       "      <th>...</th>\n",
       "      <th>2015-04</th>\n",
       "      <th>2015-05</th>\n",
       "      <th>2015-06</th>\n",
       "      <th>2015-07</th>\n",
       "      <th>2015-08</th>\n",
       "      <th>2015-09</th>\n",
       "      <th>2015-10</th>\n",
       "      <th>2015-11</th>\n",
       "      <th>2015-12</th>\n",
       "      <th>2016-01</th>\n",
       "    </tr>\n",
       "  </thead>\n",
       "  <tbody>\n",
       "    <tr>\n",
       "      <th>0</th>\n",
       "      <td>11368</td>\n",
       "      <td>NaN</td>\n",
       "      <td>NaN</td>\n",
       "      <td>NaN</td>\n",
       "      <td>NaN</td>\n",
       "      <td>NaN</td>\n",
       "      <td>NaN</td>\n",
       "      <td>NaN</td>\n",
       "      <td>NaN</td>\n",
       "      <td>NaN</td>\n",
       "      <td>...</td>\n",
       "      <td>NaN</td>\n",
       "      <td>NaN</td>\n",
       "      <td>NaN</td>\n",
       "      <td>NaN</td>\n",
       "      <td>NaN</td>\n",
       "      <td>NaN</td>\n",
       "      <td>NaN</td>\n",
       "      <td>NaN</td>\n",
       "      <td>NaN</td>\n",
       "      <td>NaN</td>\n",
       "    </tr>\n",
       "    <tr>\n",
       "      <th>1</th>\n",
       "      <td>60629</td>\n",
       "      <td>83.3729</td>\n",
       "      <td>81.9039</td>\n",
       "      <td>86.2227</td>\n",
       "      <td>88.2281</td>\n",
       "      <td>92.4941</td>\n",
       "      <td>88.4356</td>\n",
       "      <td>84.2880</td>\n",
       "      <td>86.4587</td>\n",
       "      <td>87.2849</td>\n",
       "      <td>...</td>\n",
       "      <td>109.5701</td>\n",
       "      <td>116.6246</td>\n",
       "      <td>111.9092</td>\n",
       "      <td>114.7804</td>\n",
       "      <td>127.931300</td>\n",
       "      <td>132.5965</td>\n",
       "      <td>132.6476</td>\n",
       "      <td>130.141800</td>\n",
       "      <td>136.5036</td>\n",
       "      <td>133.4347</td>\n",
       "    </tr>\n",
       "    <tr>\n",
       "      <th>2</th>\n",
       "      <td>90650</td>\n",
       "      <td>117.3969</td>\n",
       "      <td>118.0225</td>\n",
       "      <td>113.3146</td>\n",
       "      <td>112.0347</td>\n",
       "      <td>114.1521</td>\n",
       "      <td>113.2268</td>\n",
       "      <td>111.2448</td>\n",
       "      <td>109.2356</td>\n",
       "      <td>112.6931</td>\n",
       "      <td>...</td>\n",
       "      <td>309.2683</td>\n",
       "      <td>316.2006</td>\n",
       "      <td>339.0004</td>\n",
       "      <td>341.2761</td>\n",
       "      <td>339.182500</td>\n",
       "      <td>336.7075</td>\n",
       "      <td>347.7496</td>\n",
       "      <td>337.655200</td>\n",
       "      <td>330.7219</td>\n",
       "      <td>331.5490</td>\n",
       "    </tr>\n",
       "    <tr>\n",
       "      <th>3</th>\n",
       "      <td>11226</td>\n",
       "      <td>NaN</td>\n",
       "      <td>NaN</td>\n",
       "      <td>NaN</td>\n",
       "      <td>NaN</td>\n",
       "      <td>NaN</td>\n",
       "      <td>NaN</td>\n",
       "      <td>NaN</td>\n",
       "      <td>NaN</td>\n",
       "      <td>NaN</td>\n",
       "      <td>...</td>\n",
       "      <td>NaN</td>\n",
       "      <td>NaN</td>\n",
       "      <td>NaN</td>\n",
       "      <td>NaN</td>\n",
       "      <td>NaN</td>\n",
       "      <td>NaN</td>\n",
       "      <td>NaN</td>\n",
       "      <td>NaN</td>\n",
       "      <td>NaN</td>\n",
       "      <td>NaN</td>\n",
       "    </tr>\n",
       "    <tr>\n",
       "      <th>4</th>\n",
       "      <td>11385</td>\n",
       "      <td>NaN</td>\n",
       "      <td>NaN</td>\n",
       "      <td>NaN</td>\n",
       "      <td>NaN</td>\n",
       "      <td>NaN</td>\n",
       "      <td>NaN</td>\n",
       "      <td>NaN</td>\n",
       "      <td>NaN</td>\n",
       "      <td>NaN</td>\n",
       "      <td>...</td>\n",
       "      <td>NaN</td>\n",
       "      <td>NaN</td>\n",
       "      <td>NaN</td>\n",
       "      <td>NaN</td>\n",
       "      <td>351.941748</td>\n",
       "      <td>NaN</td>\n",
       "      <td>NaN</td>\n",
       "      <td>408.496732</td>\n",
       "      <td>NaN</td>\n",
       "      <td>NaN</td>\n",
       "    </tr>\n",
       "  </tbody>\n",
       "</table>\n",
       "<p>5 rows × 239 columns</p>\n",
       "</div>"
      ],
      "text/plain": [
       "   RegionName   1996-04   1996-05   1996-06   1996-07   1996-08   1996-09  \\\n",
       "0       11368       NaN       NaN       NaN       NaN       NaN       NaN   \n",
       "1       60629   83.3729   81.9039   86.2227   88.2281   92.4941   88.4356   \n",
       "2       90650  117.3969  118.0225  113.3146  112.0347  114.1521  113.2268   \n",
       "3       11226       NaN       NaN       NaN       NaN       NaN       NaN   \n",
       "4       11385       NaN       NaN       NaN       NaN       NaN       NaN   \n",
       "\n",
       "    1996-10   1996-11   1996-12    ...      2015-04   2015-05   2015-06  \\\n",
       "0       NaN       NaN       NaN    ...          NaN       NaN       NaN   \n",
       "1   84.2880   86.4587   87.2849    ...     109.5701  116.6246  111.9092   \n",
       "2  111.2448  109.2356  112.6931    ...     309.2683  316.2006  339.0004   \n",
       "3       NaN       NaN       NaN    ...          NaN       NaN       NaN   \n",
       "4       NaN       NaN       NaN    ...          NaN       NaN       NaN   \n",
       "\n",
       "    2015-07     2015-08   2015-09   2015-10     2015-11   2015-12   2016-01  \n",
       "0       NaN         NaN       NaN       NaN         NaN       NaN       NaN  \n",
       "1  114.7804  127.931300  132.5965  132.6476  130.141800  136.5036  133.4347  \n",
       "2  341.2761  339.182500  336.7075  347.7496  337.655200  330.7219  331.5490  \n",
       "3       NaN         NaN       NaN       NaN         NaN       NaN       NaN  \n",
       "4       NaN  351.941748       NaN       NaN  408.496732       NaN       NaN  \n",
       "\n",
       "[5 rows x 239 columns]"
      ]
     },
     "execution_count": 302,
     "metadata": {},
     "output_type": "execute_result"
    }
   ],
   "source": [
    "#home_values = pd.read_csv(urllib2.urlopen('http://files.zillowstatic.com/research/public/Zip/Zip_MedianSoldPricePerSqft_AllHomes.csv'))\n",
    "home_values = pd.read_csv(open('Zillow_Data/Zip_MedianSoldPricePerSqft_AllHomes.csv','rU'), encoding = 'ISO-8859-1', engine = 'c', error_bad_lines = False)#, index_col='RegionName')\n",
    "home_values = home_values.drop('RegionID', 1)\n",
    "home_values = home_values.drop('City', 1)\n",
    "home_values = home_values.drop('State', 1)\n",
    "home_values = home_values.drop('Metro', 1)\n",
    "home_values = home_values.drop('CountyName', 1)\n",
    "home_values = home_values.drop('SizeRank', 1)\n",
    "home_values[:5]"
   ]
  },
  {
   "cell_type": "code",
   "execution_count": 303,
   "metadata": {
    "collapsed": false
   },
   "outputs": [
    {
     "data": {
      "text/html": [
       "<div style=\"max-width:1500px;overflow:auto;\">\n",
       "<table border=\"1\" class=\"dataframe\">\n",
       "  <thead>\n",
       "    <tr style=\"text-align: right;\">\n",
       "      <th></th>\n",
       "      <th>RegionName</th>\n",
       "      <th>1996-04</th>\n",
       "      <th>1996-05</th>\n",
       "      <th>1996-06</th>\n",
       "      <th>1996-07</th>\n",
       "      <th>1996-08</th>\n",
       "      <th>1996-09</th>\n",
       "      <th>1996-10</th>\n",
       "      <th>1996-11</th>\n",
       "      <th>1996-12</th>\n",
       "      <th>...</th>\n",
       "      <th>2015-04</th>\n",
       "      <th>2015-05</th>\n",
       "      <th>2015-06</th>\n",
       "      <th>2015-07</th>\n",
       "      <th>2015-08</th>\n",
       "      <th>2015-09</th>\n",
       "      <th>2015-10</th>\n",
       "      <th>2015-11</th>\n",
       "      <th>2015-12</th>\n",
       "      <th>2016-01</th>\n",
       "    </tr>\n",
       "  </thead>\n",
       "  <tbody>\n",
       "    <tr>\n",
       "      <th>0</th>\n",
       "      <td>11368</td>\n",
       "      <td>NaN</td>\n",
       "      <td>NaN</td>\n",
       "      <td>NaN</td>\n",
       "      <td>NaN</td>\n",
       "      <td>NaN</td>\n",
       "      <td>NaN</td>\n",
       "      <td>NaN</td>\n",
       "      <td>NaN</td>\n",
       "      <td>NaN</td>\n",
       "      <td>...</td>\n",
       "      <td>559800</td>\n",
       "      <td>567300</td>\n",
       "      <td>573800</td>\n",
       "      <td>578200</td>\n",
       "      <td>584300</td>\n",
       "      <td>593100</td>\n",
       "      <td>602100</td>\n",
       "      <td>611900</td>\n",
       "      <td>624100</td>\n",
       "      <td>634800</td>\n",
       "    </tr>\n",
       "    <tr>\n",
       "      <th>1</th>\n",
       "      <td>79936</td>\n",
       "      <td>70900</td>\n",
       "      <td>71200</td>\n",
       "      <td>71100</td>\n",
       "      <td>71300</td>\n",
       "      <td>71400</td>\n",
       "      <td>71900</td>\n",
       "      <td>72700</td>\n",
       "      <td>73100</td>\n",
       "      <td>72700</td>\n",
       "      <td>...</td>\n",
       "      <td>111400</td>\n",
       "      <td>111400</td>\n",
       "      <td>111500</td>\n",
       "      <td>111900</td>\n",
       "      <td>112000</td>\n",
       "      <td>111600</td>\n",
       "      <td>111200</td>\n",
       "      <td>111000</td>\n",
       "      <td>110700</td>\n",
       "      <td>110500</td>\n",
       "    </tr>\n",
       "    <tr>\n",
       "      <th>2</th>\n",
       "      <td>60629</td>\n",
       "      <td>93600</td>\n",
       "      <td>93600</td>\n",
       "      <td>93400</td>\n",
       "      <td>93300</td>\n",
       "      <td>93000</td>\n",
       "      <td>92700</td>\n",
       "      <td>92500</td>\n",
       "      <td>92500</td>\n",
       "      <td>92400</td>\n",
       "      <td>...</td>\n",
       "      <td>136200</td>\n",
       "      <td>137100</td>\n",
       "      <td>138900</td>\n",
       "      <td>141000</td>\n",
       "      <td>142100</td>\n",
       "      <td>141800</td>\n",
       "      <td>140800</td>\n",
       "      <td>140300</td>\n",
       "      <td>140400</td>\n",
       "      <td>140600</td>\n",
       "    </tr>\n",
       "    <tr>\n",
       "      <th>3</th>\n",
       "      <td>90650</td>\n",
       "      <td>145600</td>\n",
       "      <td>145300</td>\n",
       "      <td>144700</td>\n",
       "      <td>144100</td>\n",
       "      <td>143600</td>\n",
       "      <td>143200</td>\n",
       "      <td>142700</td>\n",
       "      <td>142300</td>\n",
       "      <td>141900</td>\n",
       "      <td>...</td>\n",
       "      <td>386100</td>\n",
       "      <td>388900</td>\n",
       "      <td>391300</td>\n",
       "      <td>393600</td>\n",
       "      <td>396500</td>\n",
       "      <td>399400</td>\n",
       "      <td>401500</td>\n",
       "      <td>403400</td>\n",
       "      <td>405900</td>\n",
       "      <td>408200</td>\n",
       "    </tr>\n",
       "    <tr>\n",
       "      <th>4</th>\n",
       "      <td>11226</td>\n",
       "      <td>NaN</td>\n",
       "      <td>NaN</td>\n",
       "      <td>NaN</td>\n",
       "      <td>NaN</td>\n",
       "      <td>NaN</td>\n",
       "      <td>NaN</td>\n",
       "      <td>NaN</td>\n",
       "      <td>NaN</td>\n",
       "      <td>NaN</td>\n",
       "      <td>...</td>\n",
       "      <td>797600</td>\n",
       "      <td>806100</td>\n",
       "      <td>811100</td>\n",
       "      <td>817000</td>\n",
       "      <td>824800</td>\n",
       "      <td>821700</td>\n",
       "      <td>807200</td>\n",
       "      <td>805800</td>\n",
       "      <td>822700</td>\n",
       "      <td>841100</td>\n",
       "    </tr>\n",
       "  </tbody>\n",
       "</table>\n",
       "<p>5 rows × 239 columns</p>\n",
       "</div>"
      ],
      "text/plain": [
       "   RegionName  1996-04  1996-05  1996-06  1996-07  1996-08  1996-09  1996-10  \\\n",
       "0       11368      NaN      NaN      NaN      NaN      NaN      NaN      NaN   \n",
       "1       79936    70900    71200    71100    71300    71400    71900    72700   \n",
       "2       60629    93600    93600    93400    93300    93000    92700    92500   \n",
       "3       90650   145600   145300   144700   144100   143600   143200   142700   \n",
       "4       11226      NaN      NaN      NaN      NaN      NaN      NaN      NaN   \n",
       "\n",
       "   1996-11  1996-12   ...     2015-04  2015-05  2015-06  2015-07  2015-08  \\\n",
       "0      NaN      NaN   ...      559800   567300   573800   578200   584300   \n",
       "1    73100    72700   ...      111400   111400   111500   111900   112000   \n",
       "2    92500    92400   ...      136200   137100   138900   141000   142100   \n",
       "3   142300   141900   ...      386100   388900   391300   393600   396500   \n",
       "4      NaN      NaN   ...      797600   806100   811100   817000   824800   \n",
       "\n",
       "   2015-09  2015-10  2015-11  2015-12  2016-01  \n",
       "0   593100   602100   611900   624100   634800  \n",
       "1   111600   111200   111000   110700   110500  \n",
       "2   141800   140800   140300   140400   140600  \n",
       "3   399400   401500   403400   405900   408200  \n",
       "4   821700   807200   805800   822700   841100  \n",
       "\n",
       "[5 rows x 239 columns]"
      ]
     },
     "execution_count": 303,
     "metadata": {},
     "output_type": "execute_result"
    }
   ],
   "source": [
    "median_sales_price = pd.read_csv(open('Zillow_Data/Zip_Zhvi_SingleFamilyResidence.csv','rU'), encoding = 'ISO-8859-1', engine = 'c', error_bad_lines = False)#, index_col='RegionName')\n",
    "median_sales_price = median_sales_price.drop('RegionID', 1)\n",
    "median_sales_price = median_sales_price.drop('City', 1)\n",
    "median_sales_price = median_sales_price.drop('State', 1)\n",
    "median_sales_price = median_sales_price.drop('Metro', 1)\n",
    "median_sales_price = median_sales_price.drop('CountyName', 1)\n",
    "median_sales_price = median_sales_price.drop('SizeRank', 1)\n",
    "median_sales_price[:5]"
   ]
  },
  {
   "cell_type": "code",
   "execution_count": 304,
   "metadata": {
    "collapsed": false
   },
   "outputs": [
    {
     "data": {
      "text/plain": [
       "1161"
      ]
     },
     "execution_count": 304,
     "metadata": {},
     "output_type": "execute_result"
    }
   ],
   "source": [
    "columns = list(home_values.columns.values)\n",
    "def findColumns(x):\n",
    "    try:\n",
    "        #return home_values[home_values['RegionName']==x.astype(str)[:5]]\n",
    "        return (columns.index(x['Closing Date']))\n",
    "        #return '1'\n",
    "    except ValueError, TypeError:\n",
    "        return (columns.index('2016-01'))\n",
    "\n",
    "f = lambda x: findColumns(x)\n",
    "\n",
    "#Changed application date of last three rows to be within the range of zillows home value data, row 1176, 1180, 1187 and 1188\n",
    "cols = merged[~merged['Closing Date'].isnull()].apply(f, axis = 1)\n",
    "columns = list(median_sales_price.columns.values)\n",
    "cols2 = merged[~merged['Closing Date'].isnull()].apply(f, axis = 1)\n",
    "\n",
    "len(cols)"
   ]
  },
  {
   "cell_type": "code",
   "execution_count": 305,
   "metadata": {
    "collapsed": false
   },
   "outputs": [
    {
     "data": {
      "text/plain": [
       "1161"
      ]
     },
     "execution_count": 305,
     "metadata": {},
     "output_type": "execute_result"
    }
   ],
   "source": [
    "from pyzipcode import ZipCodeDatabase\n",
    "#rows = list(home_values.index.values)\n",
    "rows = list(home_values['RegionName'])\n",
    "def findZip(x, rows):\n",
    "    try:\n",
    "        \n",
    "        #return home_values[home_values['RegionName']==x.astype(str)[:5]]\n",
    "        return (rows.index(int(x)))\n",
    "    except ValueError, TypeError:\n",
    "        zcdb = ZipCodeDatabase()\n",
    "        try:\n",
    "            zipcodes = [z.zip for z in zcdb.get_zipcodes_around_radius(x, 2)]\n",
    "            for zipcode in zipcodes:\n",
    "                try:\n",
    "                    rowsindex = rows.index(int(zipcode))\n",
    "                    print zipcode + ',' + rowsindex\n",
    "                    return rowsindex\n",
    "                except:\n",
    "                    continue\n",
    "            return rows.index(32804)\n",
    "        except:\n",
    "            return rows.index(32804)\n",
    "\n",
    "f = lambda x: findZip(x, rows)\n",
    "rowIndeces = merged[~merged['RegionName'].isnull()]['RegionName'].map(f)\n",
    "rows = list(median_sales_price['RegionName'])\n",
    "rowIndeces2 = merged[~merged['RegionName'].isnull()]['RegionName'].map(f)\n",
    "\n",
    "len(rowIndeces)"
   ]
  },
  {
   "cell_type": "code",
   "execution_count": 306,
   "metadata": {
    "collapsed": false
   },
   "outputs": [
    {
     "data": {
      "text/plain": [
       "0"
      ]
     },
     "execution_count": 306,
     "metadata": {},
     "output_type": "execute_result"
    }
   ],
   "source": [
    "merged['MedianSalesPriceSqFt'] = zip(rowIndeces, cols)\n",
    "merged['MedianSalesPrice'] = zip(rowIndeces2, cols2)\n",
    "\n",
    "#f = lambda x: home_values.iloc[rowIndeces, columnIndeces]\n",
    "f = lambda x: home_values.iloc[(int(x[0]))][(int(x[1]))]\n",
    "merged['MedianSalesPriceSqFt'] = merged['MedianSalesPriceSqFt'].map(f)\n",
    "f = lambda x: median_sales_price.iloc[(int(x[0]))][(int(x[1]))]\n",
    "merged['MedianSalesPrice'] = merged['MedianSalesPrice'].map(f)\n",
    "\n",
    "len(merged[merged['MedianSalesPrice'].isnull()])"
   ]
  },
  {
   "cell_type": "code",
   "execution_count": 307,
   "metadata": {
    "collapsed": false
   },
   "outputs": [
    {
     "data": {
      "text/html": [
       "<div style=\"max-width:1500px;overflow:auto;\">\n",
       "<table border=\"1\" class=\"dataframe\">\n",
       "  <thead>\n",
       "    <tr style=\"text-align: right;\">\n",
       "      <th></th>\n",
       "      <th>RegionName</th>\n",
       "      <th>MarketHealthIndex</th>\n",
       "      <th>SellForGain</th>\n",
       "      <th>PrevForeclosed</th>\n",
       "      <th>ForeclosureRatio</th>\n",
       "      <th>ZHVI</th>\n",
       "      <th>MoM</th>\n",
       "      <th>YoY</th>\n",
       "      <th>ForecastYoYPctChange</th>\n",
       "      <th>StockOfREOs</th>\n",
       "      <th>NegativeEquity</th>\n",
       "      <th>Delinquency</th>\n",
       "      <th>DaysOnMarket</th>\n",
       "    </tr>\n",
       "  </thead>\n",
       "  <tbody>\n",
       "    <tr>\n",
       "      <th>0</th>\n",
       "      <td>1001</td>\n",
       "      <td>3.883605</td>\n",
       "      <td>100</td>\n",
       "      <td>NaN</td>\n",
       "      <td>4.3499</td>\n",
       "      <td>183200</td>\n",
       "      <td>0.054615</td>\n",
       "      <td>2.346369</td>\n",
       "      <td>0.019045</td>\n",
       "      <td>22.2</td>\n",
       "      <td>0.128492</td>\n",
       "      <td>0.063768</td>\n",
       "      <td>112.5</td>\n",
       "    </tr>\n",
       "    <tr>\n",
       "      <th>1</th>\n",
       "      <td>1002</td>\n",
       "      <td>2.949879</td>\n",
       "      <td>60</td>\n",
       "      <td>NaN</td>\n",
       "      <td>6.3783</td>\n",
       "      <td>301700</td>\n",
       "      <td>0.033156</td>\n",
       "      <td>0.499667</td>\n",
       "      <td>0.013271</td>\n",
       "      <td>14.8</td>\n",
       "      <td>0.058672</td>\n",
       "      <td>0.014599</td>\n",
       "      <td>101.5</td>\n",
       "    </tr>\n",
       "    <tr>\n",
       "      <th>2</th>\n",
       "      <td>1005</td>\n",
       "      <td>2.875906</td>\n",
       "      <td>NaN</td>\n",
       "      <td>NaN</td>\n",
       "      <td>NaN</td>\n",
       "      <td>193300</td>\n",
       "      <td>0.415584</td>\n",
       "      <td>4.430038</td>\n",
       "      <td>0.028614</td>\n",
       "      <td>32.3</td>\n",
       "      <td>0.150367</td>\n",
       "      <td>0.105691</td>\n",
       "      <td>103.0</td>\n",
       "    </tr>\n",
       "    <tr>\n",
       "      <th>3</th>\n",
       "      <td>1007</td>\n",
       "      <td>2.950634</td>\n",
       "      <td>75</td>\n",
       "      <td>NaN</td>\n",
       "      <td>NaN</td>\n",
       "      <td>252700</td>\n",
       "      <td>0.198255</td>\n",
       "      <td>1.282565</td>\n",
       "      <td>0.018951</td>\n",
       "      <td>16.1</td>\n",
       "      <td>0.053743</td>\n",
       "      <td>0.064286</td>\n",
       "      <td>101.5</td>\n",
       "    </tr>\n",
       "    <tr>\n",
       "      <th>4</th>\n",
       "      <td>1008</td>\n",
       "      <td>4.730525</td>\n",
       "      <td>100</td>\n",
       "      <td>NaN</td>\n",
       "      <td>46.5116</td>\n",
       "      <td>222700</td>\n",
       "      <td>0.632625</td>\n",
       "      <td>1.735952</td>\n",
       "      <td>0.019520</td>\n",
       "      <td>17.5</td>\n",
       "      <td>0.067073</td>\n",
       "      <td>0.090909</td>\n",
       "      <td>112.5</td>\n",
       "    </tr>\n",
       "  </tbody>\n",
       "</table>\n",
       "</div>"
      ],
      "text/plain": [
       "   RegionName  MarketHealthIndex  SellForGain  PrevForeclosed  \\\n",
       "0        1001           3.883605          100             NaN   \n",
       "1        1002           2.949879           60             NaN   \n",
       "2        1005           2.875906          NaN             NaN   \n",
       "3        1007           2.950634           75             NaN   \n",
       "4        1008           4.730525          100             NaN   \n",
       "\n",
       "   ForeclosureRatio    ZHVI       MoM       YoY  ForecastYoYPctChange  \\\n",
       "0            4.3499  183200  0.054615  2.346369              0.019045   \n",
       "1            6.3783  301700  0.033156  0.499667              0.013271   \n",
       "2               NaN  193300  0.415584  4.430038              0.028614   \n",
       "3               NaN  252700  0.198255  1.282565              0.018951   \n",
       "4           46.5116  222700  0.632625  1.735952              0.019520   \n",
       "\n",
       "   StockOfREOs  NegativeEquity  Delinquency  DaysOnMarket  \n",
       "0         22.2        0.128492     0.063768         112.5  \n",
       "1         14.8        0.058672     0.014599         101.5  \n",
       "2         32.3        0.150367     0.105691         103.0  \n",
       "3         16.1        0.053743     0.064286         101.5  \n",
       "4         17.5        0.067073     0.090909         112.5  "
      ]
     },
     "execution_count": 307,
     "metadata": {},
     "output_type": "execute_result"
    }
   ],
   "source": [
    "#home_values = pd.read_csv(urllib2.urlopen('http://files.zillowstatic.com/research/public/Zip/Zip_MedianSoldPricePerSqft_AllHomes.csv'))\n",
    "market_health = pd.read_csv(open('Zillow_Data/MarketHealthIndex_Zip.csv','rU'), encoding = 'ISO-8859-1', engine = 'c', error_bad_lines = False)#, index_col='RegionName')\n",
    "market_health = market_health.drop('RegionType', 1)\n",
    "market_health = market_health.drop('City', 1)\n",
    "market_health = market_health.drop('State', 1)\n",
    "market_health = market_health.drop('Metro', 1)\n",
    "market_health = market_health.drop('CBSATitle', 1)\n",
    "market_health = market_health.drop('SizeRank', 1)\n",
    "market_health[:5]"
   ]
  },
  {
   "cell_type": "code",
   "execution_count": 308,
   "metadata": {
    "collapsed": false
   },
   "outputs": [
    {
     "data": {
      "text/plain": [
       "[u'RegionName',\n",
       " u'MarketHealthIndex',\n",
       " u'SellForGain',\n",
       " u'PrevForeclosed',\n",
       " u'ForeclosureRatio',\n",
       " u'ZHVI',\n",
       " u'MoM',\n",
       " u'YoY',\n",
       " u'ForecastYoYPctChange',\n",
       " u'StockOfREOs',\n",
       " u'NegativeEquity',\n",
       " u'Delinquency',\n",
       " u'DaysOnMarket']"
      ]
     },
     "execution_count": 308,
     "metadata": {},
     "output_type": "execute_result"
    }
   ],
   "source": [
    "rows = list(market_health['RegionName'])\n",
    "columns = list(market_health.columns.values)\n",
    "columns"
   ]
  },
  {
   "cell_type": "code",
   "execution_count": 309,
   "metadata": {
    "collapsed": false
   },
   "outputs": [
    {
     "data": {
      "text/plain": [
       "0    2.181461\n",
       "1    0.399306\n",
       "2    0.935236\n",
       "3    1.668176\n",
       "4    2.292421\n",
       "Name: MarketHealthIndex, dtype: float64"
      ]
     },
     "execution_count": 309,
     "metadata": {},
     "output_type": "execute_result"
    }
   ],
   "source": [
    "\n",
    "def get_market_data(x, marketdata):\n",
    "    x = float(x)\n",
    "    try:\n",
    "        rowIndex = rows.index(x)\n",
    "        columnIndex = columns.index(marketdata)\n",
    "        \n",
    "        return market_health.iloc[(rowIndex)][(columnIndex)]\n",
    "    except:\n",
    "        return np.nan\n",
    "\n",
    "f = lambda x: get_market_data(str(x), 'MarketHealthIndex')\n",
    "\n",
    "\n",
    "merged['MarketHealthIndex'] = merged[~merged['RegionName'].isnull()]['RegionName'].map(f)\n",
    "merged['MarketHealthIndex'][:5]"
   ]
  },
  {
   "cell_type": "code",
   "execution_count": 310,
   "metadata": {
    "collapsed": false
   },
   "outputs": [
    {
     "data": {
      "text/plain": [
       "0    6.772674\n",
       "1   -0.835655\n",
       "2    5.844156\n",
       "3    9.523810\n",
       "4    6.383750\n",
       "Name: YoY, dtype: float64"
      ]
     },
     "execution_count": 310,
     "metadata": {},
     "output_type": "execute_result"
    }
   ],
   "source": [
    "f = lambda x: get_market_data(str(x), 'YoY')\n",
    "\n",
    "\n",
    "merged['YoY'] = merged[~merged['RegionName'].isnull()]['RegionName'].map(f)\n",
    "merged['YoY'][:5]"
   ]
  },
  {
   "cell_type": "code",
   "execution_count": 311,
   "metadata": {
    "collapsed": false
   },
   "outputs": [
    {
     "data": {
      "text/plain": [
       "0     84.5\n",
       "1    102.5\n",
       "2     84.0\n",
       "3    107.5\n",
       "4     95.0\n",
       "Name: DaysOnMarket, dtype: float64"
      ]
     },
     "execution_count": 311,
     "metadata": {},
     "output_type": "execute_result"
    }
   ],
   "source": [
    "f = lambda x: get_market_data(str(x), 'DaysOnMarket')\n",
    "\n",
    "\n",
    "merged['DaysOnMarket'] = merged[~merged['RegionName'].isnull()]['RegionName'].map(f)\n",
    "merged['DaysOnMarket'][:5]"
   ]
  },
  {
   "cell_type": "code",
   "execution_count": 312,
   "metadata": {
    "collapsed": false
   },
   "outputs": [],
   "source": [
    "from pyzipcode import ZipCodeDatabase\n",
    "import math\n",
    "def find_data_nearby_zips(x, marketdata):\n",
    "    x = str(int(x))\n",
    "    zcdb = ZipCodeDatabase()\n",
    "    try:\n",
    "        zipcodes = [z.zip for z in zcdb.get_zipcodes_around_radius(x, 10)]\n",
    "        for zipcode in zipcodes:\n",
    "            market_data = get_market_data(zipcode, marketdata)\n",
    "            if market_data is not np.nan:\n",
    "                #print zipcode + ',' + x\n",
    "                return market_data\n",
    "        return get_maret_data('32804', marketdata)\n",
    "    except:\n",
    "        #print '32804'\n",
    "        return get_market_data('32804', marketdata)\n",
    "\n",
    "f = lambda x: find_data_nearby_zips(x, 'MarketHealthIndex')\n",
    "merged.loc[merged['MarketHealthIndex'].isnull(),'MarketHealthIndex'] = merged.loc[merged['MarketHealthIndex'].isnull(),'RegionName'].map(f)\n",
    "f = lambda x: find_data_nearby_zips(x, 'YoY')\n",
    "merged.loc[merged['YoY'].isnull(),'YoY'] = merged.loc[merged['YoY'].isnull(),'RegionName'].map(f)\n",
    "f = lambda x: find_data_nearby_zips(x, 'DaysOnMarket')\n",
    "merged.loc[merged['DaysOnMarket'].isnull(),'DaysOnMarket'] = merged.loc[merged['DaysOnMarket'].isnull(),'RegionName'].map(f)"
   ]
  },
  {
   "cell_type": "code",
   "execution_count": 313,
   "metadata": {
    "collapsed": false
   },
   "outputs": [
    {
     "name": "stdout",
     "output_type": "stream",
     "text": [
      "0\n",
      "0\n",
      "3\n"
     ]
    }
   ],
   "source": [
    "print len(merged[merged['MarketHealthIndex'].isnull()]['MarketHealthIndex'])\n",
    "print len(merged[merged['YoY'].isnull()]['YoY'])\n",
    "print len(merged[merged['DaysOnMarket'].isnull()]['DaysOnMarket'])"
   ]
  },
  {
   "cell_type": "code",
   "execution_count": 314,
   "metadata": {
    "collapsed": false
   },
   "outputs": [],
   "source": [
    "dataset = merged[['TransactionID', 'Loan Amount', 'Closing Date', 'Quarter', 'Closed', 'RegionName', 'PP', 'ARV', 'Beds_y', 'Bath', 'SqFt', 'Repair Credit Line', 'cashReserves', 'Repeat Borrower', 'Years of Experience', 'Completed Properties', 'MarketHealthIndex', 'YoY', 'DaysOnMarket', 'MedianSalesPriceSqFt', 'MedianSalesPrice']]\n"
   ]
  },
  {
   "cell_type": "code",
   "execution_count": 315,
   "metadata": {
    "collapsed": false
   },
   "outputs": [
    {
     "data": {
      "text/plain": [
       "1153"
      ]
     },
     "execution_count": 315,
     "metadata": {},
     "output_type": "execute_result"
    }
   ],
   "source": [
    "len(dataset[dataset['PP'].notnull()])"
   ]
  },
  {
   "cell_type": "code",
   "execution_count": 316,
   "metadata": {
    "collapsed": false
   },
   "outputs": [],
   "source": [
    "#def clean_dollar_amounts(column):\n",
    "    #dataset.loc[dataset[column].notnull(), column] = dataset[dataset[column].notnull()][column].str.replace('$','')\n",
    "    #dataset.loc[dataset[column].notnull(), column] = dataset[dataset[column].notnull()][column].str.replace(',','')\n",
    "    #dataset.loc[dataset[column].notnull(), column] = dataset[dataset[column].notnull()][column].str.replace('k','000')\n",
    "    #dataset.loc[dataset[column].notnull(), column] = dataset[dataset[column].notnull()][column].str.replace('K','000')\n",
    "    #dataset.loc[dataset[column].notnull(), column] = dataset[dataset[column].notnull()][column].str.replace('>','')\n",
    "    #dataset.loc[dataset[column].notnull(), column] = dataset[dataset[column].notnull()][column].str.replace('+','')\n",
    "    \n",
    "    #dataset[column].convert_objects(convert_numeric = True)\n",
    "    #dataset.loc[dataset[column].notnull(), column] =  = int(dataset[dataset[column].notnull()][column])\n",
    "\n",
    "\n",
    "#columns = ['Repair Credit Line', 'cashReserves', 'Loan Amount', 'ARV', 'PP']\n",
    "\n",
    "#for column in columns:\n",
    "#    clean_dollar_amounts(column);\n",
    "\n",
    "#dataset[-5:]"
   ]
  },
  {
   "cell_type": "code",
   "execution_count": 317,
   "metadata": {
    "collapsed": false
   },
   "outputs": [],
   "source": [
    "def extract_numbers(x):\n",
    "    x = str(x)\n",
    "    x = x.replace('.0','')\n",
    "    x = x.replace('.00','')\n",
    "    x = x.replace('k','000')\n",
    "    x = x.replace('K','000')\n",
    "    value = re.sub(r\"[^0-9\\.]+\", \"\", str(x))\n",
    "    return value\n",
    "\n",
    "columns = ['Repair Credit Line', 'cashReserves', 'Loan Amount', 'ARV', 'PP', 'Beds_y', 'Bath', 'SqFt']\n",
    "#dataset['PP'] = dataset[~dataset['PP'].isnull()]['PP'].map(extract_numbers)\n",
    "#dataset.loc[dataset['cashReserves'].notnull(), 'cashReserves'] = dataset.loc[dataset['cashReserves'].notnull(), 'cashReserves'].map(extract_numbers)\n",
    "\n",
    "for column in columns:\n",
    "    dataset.loc[dataset[column].notnull(), column] = dataset.loc[dataset[column].notnull(), column].map(extract_numbers)\n",
    "\n"
   ]
  },
  {
   "cell_type": "code",
   "execution_count": 318,
   "metadata": {
    "collapsed": false
   },
   "outputs": [
    {
     "data": {
      "text/plain": [
       "8"
      ]
     },
     "execution_count": 318,
     "metadata": {},
     "output_type": "execute_result"
    }
   ],
   "source": [
    "len(dataset[dataset['PP'].isnull()])"
   ]
  },
  {
   "cell_type": "code",
   "execution_count": 319,
   "metadata": {
    "collapsed": false
   },
   "outputs": [],
   "source": [
    "dataset.columns = ['TransactionID', 'LoanAmount', 'ClosingDate', 'Quarter', 'Closed', 'RegionName', 'PurchasePrice', 'ARV', 'Beds', 'Bath', 'SqFt', 'RepairCreditLine', 'CashReserves', 'RepeatBorrower', 'YearsOfExperience', 'CompletedProperties', 'MarketHealthIndex', 'YoY', 'DaysOnMarket', 'MedianSalesPriceSqFt', 'MedianSalesPrice']"
   ]
  },
  {
   "cell_type": "code",
   "execution_count": 320,
   "metadata": {
    "collapsed": false
   },
   "outputs": [],
   "source": [
    "dataset.to_csv('all_transactions.csv')"
   ]
  },
  {
   "cell_type": "code",
   "execution_count": 178,
   "metadata": {
    "collapsed": false
   },
   "outputs": [],
   "source": []
  }
 ],
 "metadata": {
  "kernelspec": {
   "display_name": "Python 3",
   "language": "python",
   "name": "python3"
  },
  "language_info": {
   "codemirror_mode": {
    "name": "ipython",
    "version": 3
   },
   "file_extension": ".py",
   "mimetype": "text/x-python",
   "name": "python",
   "nbconvert_exporter": "python",
   "pygments_lexer": "ipython3",
   "version": "3.6.0"
  }
 },
 "nbformat": 4,
 "nbformat_minor": 0
}
